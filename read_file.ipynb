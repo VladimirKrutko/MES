{
 "cells": [
  {
   "cell_type": "code",
   "execution_count": 91,
   "metadata": {},
   "outputs": [],
   "source": [
    "import numpy as np\n",
    "from Grid import Grid \n",
    "from MesData import MesData\n",
    "from Calkowanie import Calkowanie\n",
    "from Calculation import Calculation\n",
    "\n",
    "calkowanie = Calkowanie()\n",
    "data_4_4 = MesData('Test1_4_4.txt').data\n",
    "calkowanie.matrix4_4()\n",
    "calcul = Calculation()\n",
    "gr = Grid(data_4_4)"
   ]
  },
  {
   "cell_type": "code",
   "execution_count": 2,
   "metadata": {},
   "outputs": [],
   "source": [
    "from ParaviewFile import ParaviewFile\n",
    "\n",
    "ParaviewFile(gr.data, gr.TempinTime).to_file('paraview_data')"
   ]
  },
  {
   "cell_type": "code",
   "execution_count": 2,
   "metadata": {},
   "outputs": [],
   "source": [
    "H_ = gr.H_glob + gr.C_glob/data_4_4['SimulationStepTime']\n",
    "P_ = np.dot( gr.C_glob/data_4_4['SimulationStepTime'], np.array([100.0 for _ in range(16)])) + gr.P_glob"
   ]
  },
  {
   "cell_type": "code",
   "execution_count": 3,
   "metadata": {},
   "outputs": [
    {
     "ename": "NameError",
     "evalue": "name 't0' is not defined",
     "output_type": "error",
     "traceback": [
      "\u001b[0;31m---------------------------------------------------------------------------\u001b[0m",
      "\u001b[0;31mNameError\u001b[0m                                 Traceback (most recent call last)",
      "Cell \u001b[0;32mIn[3], line 4\u001b[0m\n\u001b[1;32m      2\u001b[0m \u001b[38;5;28;01mfor\u001b[39;00m t_del \u001b[38;5;129;01min\u001b[39;00m \u001b[38;5;28mrange\u001b[39m(\u001b[38;5;241m1\u001b[39m, \u001b[38;5;28mint\u001b[39m(data_4_4[\u001b[38;5;124m'\u001b[39m\u001b[38;5;124mSimulationStepTime\u001b[39m\u001b[38;5;124m'\u001b[39m])\u001b[38;5;241m+\u001b[39m\u001b[38;5;241m1\u001b[39m):\n\u001b[1;32m      3\u001b[0m     H_ \u001b[38;5;241m=\u001b[39m gr\u001b[38;5;241m.\u001b[39mH_glob \u001b[38;5;241m+\u001b[39m gr\u001b[38;5;241m.\u001b[39mC_glob\u001b[38;5;241m/\u001b[39m\u001b[38;5;28mfloat\u001b[39m(t_del)\u001b[38;5;241m+\u001b[39m\u001b[38;5;241m1.0\u001b[39m\n\u001b[0;32m----> 4\u001b[0m     P_ \u001b[38;5;241m=\u001b[39m np\u001b[38;5;241m.\u001b[39mdot(gr\u001b[38;5;241m.\u001b[39mC_glob\u001b[38;5;241m/\u001b[39m\u001b[38;5;28mfloat\u001b[39m(t_del)\u001b[38;5;241m+\u001b[39m\u001b[38;5;241m1.0\u001b[39m, \u001b[43mt0\u001b[49m)\u001b[38;5;241m+\u001b[39mgr\u001b[38;5;241m.\u001b[39mP_glob\n\u001b[1;32m      5\u001b[0m     t1 \u001b[38;5;241m=\u001b[39m np\u001b[38;5;241m.\u001b[39mlinalg\u001b[38;5;241m.\u001b[39msolve(H_, \u001b[38;5;241m-\u001b[39m\u001b[38;5;241m1\u001b[39m\u001b[38;5;241m*\u001b[39mP_)\n\u001b[1;32m      6\u001b[0m     temp\u001b[38;5;241m.\u001b[39mappend(t1)\n",
      "\u001b[0;31mNameError\u001b[0m: name 't0' is not defined"
     ]
    }
   ],
   "source": [
    "temp = []\n",
    "for t_del in range(1, int(data_4_4['SimulationStepTime'])+1):\n",
    "    H_ = gr.H_glob + gr.C_glob/float(t_del)+1.0\n",
    "    P_ = np.dot(gr.C_glob/float(t_del)+1.0, t0)+gr.P_glob\n",
    "    t1 = np.linalg.solve(H_, -1*P_)\n",
    "    temp.append(t1)\n",
    "    t0 = t1"
   ]
  },
  {
   "cell_type": "code",
   "execution_count": 4,
   "metadata": {},
   "outputs": [
    {
     "data": {
      "text/plain": [
       "100.0"
      ]
     },
     "execution_count": 4,
     "metadata": {},
     "output_type": "execute_result"
    }
   ],
   "source": [
    "data_4_4['InitialTemp']"
   ]
  },
  {
   "cell_type": "code",
   "execution_count": 4,
   "metadata": {},
   "outputs": [],
   "source": [
    "t0 = np.array([100.0 for _ in range(16)])\n",
    "t_vector = []\n",
    "H_ = gr.H_glob + gr.C_glob/float(data_4_4['SimulationStepTime'])\n",
    "for _ in range( int( data_4_4['SimulationTime'] / data_4_4['SimulationStepTime'] ) ):\n",
    "    P_ = np.dot(t0, gr.C_glob/float(data_4_4['SimulationStepTime']))+gr.P_glob\n",
    "    t1 = np.linalg.solve(H_, P_)\n",
    "    t_vector.append(t1)\n",
    "    t0 = t1"
   ]
  },
  {
   "cell_type": "code",
   "execution_count": 5,
   "metadata": {},
   "outputs": [],
   "source": [
    "import numpy as np\n",
    "from scipy.integrate import quadrature\n",
    "\n",
    "# Определите вашу функцию, которую вы интегрируете\n",
    "def integrand(x, y):\n",
    "    return x**2 + y**2  # Пример: интегрируемая функция\n",
    "\n",
    "# Задайте пределы интегрирования\n",
    "x_lower, x_upper = -1, 1\n",
    "y_lower, y_upper = -1, 1\n",
    "\n",
    "# Задайте количество узлов для квадратуры\n",
    "num_nodes = 3\n",
    "\n",
    "# Получите узлы и веса интегрирования\n",
    "nodes_x, weights_x = np.polynomial.legendre.leggauss(num_nodes)\n",
    "nodes_y, weights_y = np.polynomial.legendre.leggauss(num_nodes)\n",
    "\n",
    "# Вычислите узлы и веса для двумерной квадратуры\n",
    "# nodes_combinations = np.array(np.meshgrid(nodes_x, nodes_y)).T.reshape(-1, 2)\n",
    "# weights_combinations = np.outer(weights_x, weights_y).reshape(-1)\n",
    "\n",
    "# # Выполните квадратуру\n",
    "# result = 0.0\n",
    "# for i in range(len(weights_combinations)):\n",
    "#     x = 0.5 * (x_upper - x_lower) * nodes_combinations[i, 0] + 0.5 * (x_upper + x_lower)\n",
    "#     y = 0.5 * (y_upper - y_lower) * nodes_combinations[i, 1] + 0.5 * (y_upper + y_lower)\n",
    "#     result += integrand(x, y) * weights_combinations[i]\n",
    "\n",
    "# # Умножьте результат на масштабирование области интегрирования\n",
    "# result *= 0.25 * (x_upper - x_lower) * (y_upper - y_lower)\n",
    "\n",
    "# print(\"Результат интегрирования:\", result)"
   ]
  },
  {
   "cell_type": "code",
   "execution_count": 87,
   "metadata": {},
   "outputs": [
    {
     "name": "stderr",
     "output_type": "stream",
     "text": [
      "No artists with labels found to put in legend.  Note that artists whose label start with an underscore are ignored when legend() is called with no argument.\n"
     ]
    },
    {
     "data": {
      "image/png": "[encoded data removed]",
      "text/plain": [
       "<Figure size 640x480 with 1 Axes>"
      ]
     },
     "metadata": {},
     "output_type": "display_data"
    }
   ],
   "source": [
    "import numpy as np\n",
    "import matplotlib.pyplot as plt\n",
    "from scipy.integrate import quadrature\n",
    "\n",
    "# Определите количество узлов для квадратуры\n",
    "num_nodes = 3\n",
    "\n",
    "# Получите узлы и веса интегрирования\n",
    "nodes_x, weights_x = np.polynomial.legendre.leggauss(num_nodes)\n",
    "nodes_y, weights_y = np.polynomial.legendre.leggauss(num_nodes)\n",
    "\n",
    "# Создайте комбинацию узлов и весов для двумерной квадратуры\n",
    "nodes_combinations = np.array(np.meshgrid(nodes_x, nodes_y)).T.reshape(-1, 2)\n",
    "weights_combinations = np.outer(weights_x, weights_y).reshape(-1)\n",
    "\n",
    "# Определите функцию, которую вы интегрируете\n",
    "def integrand(x, y):\n",
    "    return x**2 + y**2\n",
    "\n",
    "# Задайте пределы интегрирования\n",
    "x_lower, x_upper = -1, 1\n",
    "y_lower, y_upper = -1, 1\n",
    "\n",
    "# Создайте сетку для отображения интегрируемой функции\n",
    "x_vals = np.linspace(x_lower, x_upper, 100)\n",
    "y_vals = np.linspace(y_lower, y_upper, 100)\n",
    "# X, Y = np.meshgrid(x_vals, y_vals)\n",
    "# Z = integrand(X, Y)\n",
    "\n",
    "# Постройте график функции и узлов интегрирования\n",
    "# plt.contourf(X, Y, Z, cmap=\"viridis\")\n",
    "plt.scatter(nodes_combinations[:, 0], nodes_combinations[:, 1], color='red', marker='o')\n",
    "plt.title('Integration Nodes for 2D Quadrature')\n",
    "plt.xlabel('x')\n",
    "plt.ylabel('y')\n",
    "plt.legend()\n",
    "plt.show()\n"
   ]
  },
  {
   "cell_type": "code",
   "execution_count": 88,
   "metadata": {},
   "outputs": [
    {
     "data": {
      "text/plain": [
       "array([[-0.77459667, -0.77459667],\n",
       "       [-0.77459667,  0.        ],\n",
       "       [-0.77459667,  0.77459667],\n",
       "       [ 0.        , -0.77459667],\n",
       "       [ 0.        ,  0.        ],\n",
       "       [ 0.        ,  0.77459667],\n",
       "       [ 0.77459667, -0.77459667],\n",
       "       [ 0.77459667,  0.        ],\n",
       "       [ 0.77459667,  0.77459667]])"
      ]
     },
     "execution_count": 88,
     "metadata": {},
     "output_type": "execute_result"
    }
   ],
   "source": [
    "nodes_combinations"
   ]
  },
  {
   "cell_type": "code",
   "execution_count": 25,
   "metadata": {},
   "outputs": [
    {
     "data": {
      "text/plain": [
       "2"
      ]
     },
     "execution_count": 25,
     "metadata": {},
     "output_type": "execute_result"
    }
   ],
   "source": [
    "len(nodes_combinations)"
   ]
  },
  {
   "cell_type": "code",
   "execution_count": 29,
   "metadata": {},
   "outputs": [],
   "source": []
  },
  {
   "cell_type": "code",
   "execution_count": 30,
   "metadata": {},
   "outputs": [
    {
     "data": {
      "text/plain": [
       "[array([[-0.77459667, -0.77459667],\n",
       "        [-0.77459667,  0.        ],\n",
       "        [-0.77459667,  0.77459667]]),\n",
       " array([[ 0.        , -0.77459667],\n",
       "        [ 0.        ,  0.        ],\n",
       "        [ 0.        ,  0.77459667]]),\n",
       " array([[ 0.77459667, -0.77459667],\n",
       "        [ 0.77459667,  0.        ],\n",
       "        [ 0.77459667,  0.77459667]])]"
      ]
     },
     "execution_count": 30,
     "metadata": {},
     "output_type": "execute_result"
    }
   ],
   "source": [
    "coll_nodes"
   ]
  },
  {
   "cell_type": "code",
   "execution_count": 18,
   "metadata": {},
   "outputs": [
    {
     "data": {
      "text/plain": [
       "array([[ 0.77459667, -0.77459667],\n",
       "       [ 0.77459667,  0.        ],\n",
       "       [ 0.77459667,  0.77459667]])"
      ]
     },
     "execution_count": 18,
     "metadata": {},
     "output_type": "execute_result"
    }
   ],
   "source": [
    "nodes_combinations[6:9]"
   ]
  },
  {
   "cell_type": "code",
   "execution_count": 89,
   "metadata": {},
   "outputs": [],
   "source": [
    "nodes_weight = np.zeros((len(nodes_combinations),3))\n",
    "for i in range(len(nodes_combinations)):\n",
    "    nodes_weight[i][0], nodes_weight[i][1] = nodes_combinations[i][0], nodes_combinations[i][1]\n",
    "    nodes_weight[i][2] = weights_combinations[i]"
   ]
  },
  {
   "cell_type": "code",
   "execution_count": 90,
   "metadata": {},
   "outputs": [
    {
     "data": {
      "text/plain": [
       "array([[-0.77459667, -0.77459667,  0.30864198],\n",
       "       [-0.77459667,  0.        ,  0.49382716],\n",
       "       [-0.77459667,  0.77459667,  0.30864198],\n",
       "       [ 0.        , -0.77459667,  0.49382716],\n",
       "       [ 0.        ,  0.        ,  0.79012346],\n",
       "       [ 0.        ,  0.77459667,  0.49382716],\n",
       "       [ 0.77459667, -0.77459667,  0.30864198],\n",
       "       [ 0.77459667,  0.        ,  0.49382716],\n",
       "       [ 0.77459667,  0.77459667,  0.30864198]])"
      ]
     },
     "execution_count": 90,
     "metadata": {},
     "output_type": "execute_result"
    }
   ],
   "source": [
    "nodes_weight"
   ]
  },
  {
   "cell_type": "code",
   "execution_count": 35,
   "metadata": {},
   "outputs": [],
   "source": [
    "start = 0\n",
    "step = 3\n",
    "coll_nodes = []\n",
    "for i in range(1, num_nodes+1):\n",
    "    coll_nodes.append(nodes_weight[start:step*i])\n",
    "    start+=step"
   ]
  },
  {
   "cell_type": "code",
   "execution_count": 46,
   "metadata": {},
   "outputs": [
    {
     "data": {
      "text/plain": [
       "[array([[-0.77459667, -0.77459667,  0.30864198],\n",
       "        [-0.77459667,  0.        ,  0.49382716],\n",
       "        [-0.77459667,  0.77459667,  0.30864198]]),\n",
       " array([[ 0.        , -0.77459667,  0.49382716],\n",
       "        [ 0.        ,  0.        ,  0.79012346],\n",
       "        [ 0.        ,  0.77459667,  0.49382716]]),\n",
       " array([[ 0.77459667, -0.77459667,  0.30864198],\n",
       "        [ 0.77459667,  0.        ,  0.49382716],\n",
       "        [ 0.77459667,  0.77459667,  0.30864198]])]"
      ]
     },
     "execution_count": 46,
     "metadata": {},
     "output_type": "execute_result"
    }
   ],
   "source": [
    "coll_nodes"
   ]
  },
  {
   "cell_type": "code",
   "execution_count": 48,
   "metadata": {},
   "outputs": [
    {
     "data": {
      "text/plain": [
       "[]"
      ]
     },
     "execution_count": 48,
     "metadata": {},
     "output_type": "execute_result"
    }
   ],
   "source": []
  },
  {
   "cell_type": "code",
   "execution_count": 38,
   "metadata": {},
   "outputs": [],
   "source": [
    "KsiEtaWeight = [[ []  for _ in range(num_nodes)] for _ in range(4)]\n",
    "for i in range(4):\n",
    "    for points in coll_nodes:\n",
    "        for ind, point in enumerate(points):\n",
    "            if i == 0:\n",
    "                KsiEtaWeight[i][ind] = "
   ]
  },
  {
   "cell_type": "code",
   "execution_count": 51,
   "metadata": {},
   "outputs": [
    {
     "name": "stdout",
     "output_type": "stream",
     "text": [
      "Точка интегрирования: xi=-0.5773502691896257, eta=-0.5773502691896257\n",
      "Проекция на квадрат: x=0.42264973081037427, y=0.42264973081037427\n",
      "Вес интегрирования: 1.0\n",
      "\n",
      "\n",
      "Точка интегрирования: xi=-0.5773502691896257, eta=0.5773502691896257\n",
      "Проекция на квадрат: x=0.42264973081037427, y=1.5773502691896257\n",
      "Вес интегрирования: 1.0\n",
      "\n",
      "\n",
      "Точка интегрирования: xi=0.5773502691896257, eta=-0.5773502691896257\n",
      "Проекция на квадрат: x=1.5773502691896257, y=0.42264973081037427\n",
      "Вес интегрирования: 1.0\n",
      "\n",
      "\n",
      "Точка интегрирования: xi=0.5773502691896257, eta=0.5773502691896257\n",
      "Проекция на квадрат: x=1.5773502691896257, y=1.5773502691896257\n",
      "Вес интегрирования: 1.0\n",
      "\n",
      "\n"
     ]
    }
   ],
   "source": [
    "import numpy as np\n",
    "\n",
    "# Координаты узлов квадрата\n",
    "x1, y1 = 0.0, 0.0\n",
    "x2, y2 = 1.0, 0.0\n",
    "x3, y3 = 1.0, 1.0\n",
    "x4, y4 = 0.0, 1.0\n",
    "\n",
    "# Гауссовы узлы и веса для квадратурной формулы с 4 точками\n",
    "gauss_nodes = np.array([-np.sqrt(3)/3, np.sqrt(3)/3])\n",
    "gauss_weights = np.array([1.0, 1.0])\n",
    "\n",
    "# Проекция точек интегрирования на квадрат со сторонами 1x1\n",
    "def project_to_square(xi, eta):\n",
    "    # Проекция от (-1, -1) до (1, 1) на квадрат со сторонами 1x1\n",
    "    x = 0.5 * (x1 * (1 - xi) + x2 * (1 + xi) + x3 * (1 + xi) + x4 * (1 - xi))\n",
    "    y = 0.5 * (y1 * (1 - eta) + y2 * (1 - eta) + y3 * (1 + eta) + y4 * (1 + eta))\n",
    "    return x, y\n",
    "\n",
    "# Проекция и вывод результатов\n",
    "for xi, weight_xi in zip(gauss_nodes, gauss_weights):\n",
    "    for eta, weight_eta in zip(gauss_nodes, gauss_weights):\n",
    "        x, y = project_to_square(xi, eta)\n",
    "        print(f\"Точка интегрирования: xi={xi}, eta={eta}\")\n",
    "        print(f\"Проекция на квадрат: x={x}, y={y}\")\n",
    "        print(\"Вес интегрирования:\", weight_xi * weight_eta)\n",
    "        print(\"\\n\")\n"
   ]
  },
  {
   "cell_type": "code",
   "execution_count": null,
   "metadata": {},
   "outputs": [],
   "source": [
    "def new_ksi(x_y_w):\n",
    "    pass"
   ]
  },
  {
   "cell_type": "code",
   "execution_count": 78,
   "metadata": {},
   "outputs": [
    {
     "data": {
      "text/plain": [
       "array([[-0.77459667, -0.77459667,  0.30864198],\n",
       "       [-0.77459667,  0.        ,  0.49382716],\n",
       "       [-0.77459667,  0.77459667,  0.30864198],\n",
       "       [ 0.        , -0.77459667,  0.49382716],\n",
       "       [ 0.        ,  0.        ,  0.79012346],\n",
       "       [ 0.        ,  0.77459667,  0.49382716],\n",
       "       [ 0.77459667, -0.77459667,  0.30864198],\n",
       "       [ 0.77459667,  0.        ,  0.49382716],\n",
       "       [ 0.77459667,  0.77459667,  0.30864198]])"
      ]
     },
     "execution_count": 78,
     "metadata": {},
     "output_type": "execute_result"
    }
   ],
   "source": [
    "for i in range(4):\n",
    "    nodes_weight "
   ]
  },
  {
   "cell_type": "code",
   "execution_count": null,
   "metadata": {},
   "outputs": [],
   "source": []
  },
  {
   "cell_type": "code",
   "execution_count": null,
   "metadata": {},
   "outputs": [],
   "source": []
  },
  {
   "cell_type": "code",
   "execution_count": 71,
   "metadata": {},
   "outputs": [],
   "source": [
    "def pc_by_number(number):\n",
    "    nodes_x, weights_x = np.polynomial.legendre.leggauss(number)\n",
    "    nodes_y, weights_y = np.polynomial.legendre.leggauss(number)\n",
    "    nodes_combinations = np.array(np.meshgrid(nodes_x, nodes_y)).T.reshape(-1, 2)\n",
    "    weights_combinations = np.outer(weights_x, weights_y).reshape(-1)"
   ]
  },
  {
   "cell_type": "code",
   "execution_count": 53,
   "metadata": {},
   "outputs": [],
   "source": [
    "import math\n",
    "import numpy as np\n",
    "\n",
    "class Calkowanie2:\n",
    "    def __init__(self):\n",
    "        self.wagi = { i: sorted(self.get_weight()[i], key=lambda x: x['point']) for i in range(1,6) }\n",
    "        self.dNdKsi4_4 = [[0.0 for _ in range(4)] for _ in range(4)]\n",
    "        self.dNdEta4_4 = [[0.0 for _ in range(4)] for _ in range(4)]\n",
    "        self.dNdKsi9_4 = [[0.0 for _ in range(4)] for _ in range(9)]\n",
    "        self.dNdEta9_4 = [[0.0 for _ in range(4)] for _ in range(9)]\n",
    "        self.default_x_y = {'x': [0, 0.025, 0.025, 0], 'y':[0,0,0.025, 0.025]}\n",
    "        self.det_j = 6400\n",
    "\n",
    "    def get_weight(self):\n",
    "        return {1: [ {'point': 0, 'weight': 2} ], \n",
    "         2: [ {'point': num*((1/3.0)**(1/2)), 'weight':1 } for num in [-1,1]],\n",
    "         3: [ {'point': 0, 'weight': 8/9.0 },\n",
    "              {'point': -1*((3/5.0)**(1/2)), 'weight': 5/9.0 },\n",
    "              {'point': ((3/5.0)**(1/2)), 'weight': 5/9.0 }\n",
    "             ],\n",
    "        4: [[ {'point': num*( (3/7.0 - 2/7.0*(6/5.0)**(1/2) )**(1/2) ) , 'weight': (18+30**1/2)/36} for num in [-1,1]] \n",
    "        + [ {'point': num*( (3/7.0 + 2/7.0*(6/5.0)**(1/2) )**(1/2) ) , 'weight': (18-30**1/2)/36} for num in [-1,1] ]][0],\n",
    "        5: [{'point': 0, 'weight': 128/225}] \n",
    "        + [[ {'point': num*1/3*( (5-2*(10/7)**(1/2)))**(1/2), 'weight': (322+13*(70**(1/2)))/900}  for num in [-1,1] ] \n",
    "            + [ {'point': num*1/3*( (5+2*(10/7)**(1/2)))**(1/2), 'weight': (322-13*(70**(1/2)))/900}  for num in [-1,1] ]][0]}\n",
    "    \n",
    "    def gauss_1d_integration(self, f, points):\n",
    "        integral = sum( node['weight']  * f(node['point']) for node in self.wagi[points])\n",
    "        return integral\n",
    "\n",
    "    def gauss_2d_integration(self, f, points):\n",
    "        nodes_x = self.wagi[points]\n",
    "        nodes_y = self.wagi[points]\n",
    "        integral = sum(node_x['weight'] * node_y['weight'] * f(node_x['point'], node_y['point']) for node_x in nodes_x for node_y in nodes_y)\n",
    "        return integral\n",
    "\n",
    "    def f(self, x):\n",
    "        return (1/4)*(1-x)\n",
    "\n",
    "    def ksi(self, ksi):\n",
    "        ksis = []\n",
    "        a = 1\n",
    "        b = 1\n",
    "        for i in range(4):\n",
    "            a = -1 if i in [0,3] else 1\n",
    "            b = -1 if i in [0,1] else 1\n",
    "            ksis.append( a*0.25 * (1 + (b*ksi)) )\n",
    "        return ksis\n",
    "\n",
    "    def eta(self, eta):\n",
    "        etas = []\n",
    "        a = 1\n",
    "        b = 1\n",
    "        for i in range(4):\n",
    "            a = -1 if i in [0,1] else 1\n",
    "            b = -1 if i in [0,3] else 1\n",
    "            etas.append( a*0.25 * (1 + (b*eta)) )\n",
    "        return etas\n",
    "    \n",
    "    def nodes_point(self):\n",
    "        points = [\n",
    "            (-1 / math.sqrt(3), -1 / math.sqrt(3)),\n",
    "            (1 / math.sqrt(3), -1 / math.sqrt(3)),\n",
    "            (1 / math.sqrt(3), 1 / math.sqrt(3)),\n",
    "            (-1 / math.sqrt(3), 1 / math.sqrt(3))\n",
    "            ]\n",
    "        return points\n",
    "    \n",
    "    def PC(self):\n",
    "        pc = [\n",
    "            [[-1/math.sqrt(3), -1], [1/math.sqrt(3), -1]],\n",
    "            [[1, -1/math.sqrt(3)], [1, 1/math.sqrt(3)]],\n",
    "            [[1/math.sqrt(3), 1], [-1/math.sqrt(3), 1]],   \n",
    "            [[-1, 1/math.sqrt(3)], [-1, -1/math.sqrt(3)]],\n",
    "            ]\n",
    "        # pc = [ [-1/math.sqrt(3), -1],  #11\n",
    "        #        [1/math.sqrt(3), -1],   #12\n",
    "        #        [1, -1/math.sqrt(3)],   #21\n",
    "        #        [1, 1/math.sqrt(3)],    #22\n",
    "        #        [1/math.sqrt(3), 1],    #31\n",
    "        #        [-1/math.sqrt(3), 1],   #32\n",
    "        #        [-1, 1/math.sqrt(3)],     #41\n",
    "        #        [-1, -1/math.sqrt(3)]   #42 \n",
    "        # ]\n",
    "        return pc\n",
    "\n",
    "    def N_range(self, pc):\n",
    "        \"\"\"\n",
    "        pc => [ksi, eta]\n",
    "        n_range => [N1, N2, N3, N4]\n",
    "        \"\"\"\n",
    "        n_range = [\n",
    "            0.25*(1-pc[0])*(1-pc[1]),\n",
    "            0.25*(1+pc[0])*(1-pc[1]),\n",
    "            0.25*(1+pc[0])*(1+pc[1]),\n",
    "            0.25*(1-pc[0])*(1+pc[1]),\n",
    "        ]\n",
    "        return np.array(n_range)\n",
    "    \n",
    "    def N_range_eta(self, ):\n",
    "        N_range = []\n",
    "        for node in self.nodes_point():\n",
    "            eta = node[0]\n",
    "            N_range.append( [ -0.25 * (1 - eta ),\n",
    "                              -0.25 * (1 + eta ),\n",
    "                               0.25 * (1 + eta ),\n",
    "                               0.25 * (1 - eta )] )\n",
    "            \n",
    "        return N_range\n",
    "    \n",
    "    def Hbc(self, N_ranges, alfa, det):\n",
    "        \"\"\"\n",
    "        N_range => [[N1,N2,N3,N4],.... ] dla punktów calkowania\n",
    "        \"\"\"\n",
    "        matrix_sum =sum([np.dot(mat.reshape(4,1), mat.reshape(1,4))  for mat in N_ranges ])\n",
    "        return alfa * matrix_sum * det\n",
    "    \n",
    "    def P_vec(self, N_ranges, t_ot, alfa, det):\n",
    "        \"\"\"\n",
    "        N_ranges => [[N1,N2,N3,N4],.... ] dla punktów calkowania\n",
    "        t_ot => temperatura otoczenia\n",
    "        \"\"\"\n",
    "        matrix_sum = sum( [mat.reshape(4,1) * t_ot for mat in N_ranges] )\n",
    "        return alfa * matrix_sum * det\n",
    "\n",
    "    def matrix4_4(self):\n",
    "        for i in range(4):\n",
    "            ksi = self.ksi(self.nodes_point()[i][0])\n",
    "            eta = self.eta(self.nodes_point()[i][1])\n",
    "            print(ksi, eta)\n",
    "            for j in range(4):\n",
    "              self.dNdKsi4_4[i][j] = ksi[j]\n",
    "              self.dNdEta4_4[i][j] = eta[j]  \n",
    "\n",
    "        self.dNdKsi4_4[1], self.dNdKsi4_4[-1] = self.dNdKsi4_4[-1], self.dNdKsi4_4[1]\n",
    "        self.dNdEta4_4[1], self.dNdEta4_4[2] = self.dNdEta4_4[2], self.dNdEta4_4[1]\n",
    "    \n",
    "    def nodes_point9_4(self):\n",
    "        points = [\n",
    "                [-math.sqrt(3.0 / 5.0), -math.sqrt(3.0 / 5.0)],\n",
    "                [0, -math.sqrt(3.0 / 5.0)],\n",
    "                [math.sqrt(3.0 / 5.0), -math.sqrt(3.0 / 5.0)],\n",
    "                [-math.sqrt(3.0 / 5.0), 0],\n",
    "                [0, 0],\n",
    "                [math.sqrt(3.0 / 5.0), 0],\n",
    "                [-math.sqrt(3.0 / 5.0), math.sqrt(3.0 / 5.0)],\n",
    "                [0, math.sqrt(3.0 / 5.0)],\n",
    "                [math.sqrt(3.0 / 5.0), math.sqrt(3.0 / 5.0)]\n",
    "                ]\n",
    "        return points\n",
    "\n",
    "    def matrix9_4(self):\n",
    "        for i in range(9):\n",
    "            for j in range(4):\n",
    "                # pdb.set_trace()\n",
    "                ksi = self.ksi(self.nodes_point9_4()[i][0])\n",
    "                eta = self.eta(self.nodes_point9_4()[i][1])\n",
    "                self.dNdEta9_4[i][j] = eta[j]\n",
    "                self.dNdKsi9_4[i][j] = ksi[j]\n",
    "\n",
    "    def matrix_dx_dksi_dyd_ksi(self, x,y, pc):\n",
    "        self.matrix4_4()\n",
    "        dy_dKsi = sum([ self.dNdKsi4_4[pc][i]* y[i] for i in range(len(y))])\n",
    "        dx_dKsi = sum([ self.dNdKsi4_4[pc][i]* x[i] for i in range(len(y))])\n",
    "        dy_dEta = sum([ self.dNdEta4_4[pc][i]* y[i] for i in range(len(y))])\n",
    "        dx_dEta = sum([ self.dNdEta4_4[pc][i]* x[i] for i in range(len(y))])\n",
    "        return [[dy_dEta, -1 * dy_dKsi ], [-1*dx_dEta, dx_dKsi]]\n",
    "    \n",
    "    def init_dNdx_dNdy(self, x, y):\n",
    "        self.dNdx = []\n",
    "        self.dNdy = []\n",
    "        j_matrix =  [ self.matrix_dx_dksi_dyd_ksi(x,y, i) for i in range(4)]\n",
    "        for j_ind, matJ in enumerate(j_matrix):\n",
    "            x = []\n",
    "            y = []\n",
    "            det_j = 1 / np.linalg.det(matJ) # type: ignore\n",
    "            for ksi, eta in zip( np.array(self.dNdKsi4_4[j_ind]), np.array(self.dNdEta4_4[j_ind]) ):\n",
    "                ksi_eta = np.array([ksi, eta]).reshape(2,1)\n",
    "                prom_res = det_j * np.dot(matJ, ksi_eta) # type: ignore\n",
    "                x.append(prom_res[0][0])\n",
    "                y.append(prom_res[1][0])\n",
    "            self.dNdx.append(x)\n",
    "            self.dNdy.append(y)\n",
    "\n",
    "    def mat_dN_dx(self, x, y, det):\n",
    "        self.matrix4_4()\n",
    "        self.init_dNdx_dNdy(x, y)\n",
    "        return self.dNdx\n",
    "    \n",
    "    def mat_dN_dy(self, x, y, det):\n",
    "        self.matrix4_4()\n",
    "        self.init_dNdx_dNdy(x, y)\n",
    "        return self.dNdy\n",
    "    \n",
    "    def H_pc_N(self, x, y, det, N, k_t, dV):\n",
    "        dN_dx =  np.array( self.mat_dN_dx(x, y, det))\n",
    "        dN_dy = np.array( self.mat_dN_dy(x,y, det))\n",
    "        H = np.dot( dN_dx[N].reshape(4,1), dN_dx[N].reshape(1,4) ) + np.dot( dN_dy[N].reshape(4,1), dN_dy[N].reshape(1,4) )\n",
    "        return k_t * H * dV\n",
    "\n",
    "    def detJ(matrix):\n",
    "        np_matrix = np.array(matrix)\n",
    "        return 1/np.linalg.det(np_matrix)\n",
    "    \n",
    "    def invMatrix(self, matrix):\n",
    "        return np.linalg.inv(matrix)\n",
    "\n",
    "    def print_matrix(matrix):\n",
    "        for i in range(len(matrix)): # type: ignore\n",
    "            print(\", \".join( map(str, matrix[i]))) # type: ignore"
   ]
  },
  {
   "cell_type": "code",
   "execution_count": 66,
   "metadata": {},
   "outputs": [],
   "source": [
    "c2 = Calkowanie2()"
   ]
  },
  {
   "cell_type": "code",
   "execution_count": 68,
   "metadata": {},
   "outputs": [],
   "source": [
    "c2.matrix9_4()"
   ]
  },
  {
   "cell_type": "code",
   "execution_count": 54,
   "metadata": {},
   "outputs": [
    {
     "name": "stdout",
     "output_type": "stream",
     "text": [
      "Значения xi: [-0.86113631 -0.86113631 -0.86113631 -0.86113631 -0.33998104 -0.33998104\n",
      " -0.33998104 -0.33998104  0.33998104  0.33998104  0.33998104  0.33998104\n",
      "  0.86113631  0.86113631  0.86113631  0.86113631]\n",
      "Значения eta: [-0.86113631 -0.33998104  0.33998104  0.86113631 -0.86113631 -0.33998104\n",
      "  0.33998104  0.86113631 -0.86113631 -0.33998104  0.33998104  0.86113631\n",
      " -0.86113631 -0.33998104  0.33998104  0.86113631]\n"
     ]
    }
   ],
   "source": [
    "import numpy as np\n",
    "\n",
    "# Определите количество узлов для квадратного элемента\n",
    "num_nodes = 4\n",
    "\n",
    "# Получите узлы и веса интегрирования\n",
    "nodes_xi, weights_xi = np.polynomial.legendre.leggauss(num_nodes)\n",
    "nodes_eta, weights_eta = np.polynomial.legendre.leggauss(num_nodes)\n",
    "\n",
    "# Создайте комбинацию узлов и весов для двумерной квадратурной формулы\n",
    "nodes_combinations = np.array(np.meshgrid(nodes_xi, nodes_eta)).T.reshape(-1, 2)\n",
    "weights_combinations = np.outer(weights_xi, weights_eta).reshape(-1)\n",
    "\n",
    "# Проецируйте значения точек интегрирования на оси xi и eta\n",
    "projected_xi = nodes_combinations[:, 0]\n",
    "projected_eta = nodes_combinations[:, 1]\n",
    "\n",
    "# Выведите значения xi и eta\n",
    "print(\"Значения xi:\", projected_xi)\n",
    "print(\"Значения eta:\", projected_eta)\n"
   ]
  },
  {
   "cell_type": "code",
   "execution_count": 55,
   "metadata": {},
   "outputs": [
    {
     "name": "stdout",
     "output_type": "stream",
     "text": [
      "[-0.39433756729740643, 0.39433756729740643, 0.10566243270259354, -0.10566243270259354] [-0.39433756729740643, -0.10566243270259354, 0.10566243270259354, 0.39433756729740643]\n",
      "[-0.10566243270259354, 0.10566243270259354, 0.39433756729740643, -0.39433756729740643] [-0.39433756729740643, -0.10566243270259354, 0.10566243270259354, 0.39433756729740643]\n",
      "[-0.10566243270259354, 0.10566243270259354, 0.39433756729740643, -0.39433756729740643] [-0.10566243270259354, -0.39433756729740643, 0.39433756729740643, 0.10566243270259354]\n",
      "[-0.39433756729740643, 0.39433756729740643, 0.10566243270259354, -0.10566243270259354] [-0.10566243270259354, -0.39433756729740643, 0.39433756729740643, 0.10566243270259354]\n"
     ]
    }
   ],
   "source": [
    "c2.matrix4_4()"
   ]
  },
  {
   "cell_type": "code",
   "execution_count": 83,
   "metadata": {},
   "outputs": [
    {
     "name": "stdout",
     "output_type": "stream",
     "text": [
      "Значения xi: [-0.57735027 -0.57735027  0.57735027  0.57735027]\n",
      "Значения eta: [-0.57735027  0.57735027 -0.57735027  0.57735027]\n"
     ]
    }
   ],
   "source": [
    "import numpy as np\n",
    "\n",
    "# Определите количество узлов для квадратного элемента\n",
    "num_nodes = 2\n",
    "\n",
    "# Получите узлы и веса интегрирования\n",
    "nodes_xi, weights_xi = np.polynomial.legendre.leggauss(num_nodes)\n",
    "nodes_eta, weights_eta = np.polynomial.legendre.leggauss(num_nodes)\n",
    "\n",
    "# Создайте комбинацию узлов и весов для двумерной квадратурной формулы\n",
    "nodes_combinations = np.array(np.meshgrid(nodes_xi, nodes_eta)).T.reshape(-1, 2)\n",
    "weights_combinations = np.outer(weights_xi, weights_eta).reshape(-1)\n",
    "\n",
    "# Проецируйте значения точек интегрирования на оси xi и eta\n",
    "projected_xi = nodes_combinations[:, 0]\n",
    "projected_eta = nodes_combinations[:, 1]\n",
    "\n",
    "# Выведите значения xi и eta\n",
    "print(\"Значения xi:\", projected_xi)\n",
    "print(\"Значения eta:\", projected_eta)\n"
   ]
  },
  {
   "cell_type": "code",
   "execution_count": 84,
   "metadata": {},
   "outputs": [
    {
     "data": {
      "text/plain": [
       "array([[-0.57735027, -0.57735027],\n",
       "       [-0.57735027,  0.57735027],\n",
       "       [ 0.57735027, -0.57735027],\n",
       "       [ 0.57735027,  0.57735027]])"
      ]
     },
     "execution_count": 84,
     "metadata": {},
     "output_type": "execute_result"
    }
   ],
   "source": [
    "nodes_combinations"
   ]
  },
  {
   "cell_type": "code",
   "execution_count": 85,
   "metadata": {},
   "outputs": [
    {
     "data": {
      "text/plain": [
       "([0.100000001, 0.0666666701, 0.0666666701, 0.100000001],\n",
       " [0.00499999989, 0.00499999989, -0.0283333343, -0.0283333343])"
      ]
     },
     "execution_count": 85,
     "metadata": {},
     "output_type": "execute_result"
    }
   ],
   "source": [
    "gr.grid[0][0].x, gr.grid[0][0].y"
   ]
  },
  {
   "cell_type": "code",
   "execution_count": 72,
   "metadata": {},
   "outputs": [],
   "source": [
    "import numpy as np\n",
    "\n",
    "# Координаты узлов квадратного элемента\n",
    "x1, y1 = 0.100000001, 0.00499999989\n",
    "x2, y2 = 0.0666666701, 0.00499999989\n",
    "x3, y3 = 0.0666666701,  -0.0283333343\n",
    "x4, y4 = 0.100000001, -0.0283333343\n",
    "\n",
    "# Гауссовы узлы и веса для квадратурной формулы с 4 точками\n",
    "gauss_nodes, gauss_weights = np.polynomial.legendre.leggauss(4)\n",
    "\n",
    "# gauss_weights = np.array([1.0, 1.0])\n",
    "\n",
    "# Матрица Якобиана\n",
    "def jacobian_matrix(xi, eta):\n",
    "    N1 = 0.25 * (1 - xi) * (1 - eta)\n",
    "    N2 = 0.25 * (1 + xi) * (1 - eta)\n",
    "    N3 = 0.25 * (1 + xi) * (1 + eta)\n",
    "    N4 = 0.25 * (1 - xi) * (1 + eta)\n",
    "\n",
    "    dN1_dxi = -0.25 * (1 - eta)\n",
    "    dN2_dxi = 0.25 * (1 - eta)\n",
    "    dN3_dxi = 0.25 * (1 + eta)\n",
    "    dN4_dxi = -0.25 * (1 + eta)\n",
    "\n",
    "    dN1_deta = -0.25 * (1 - xi)\n",
    "    dN2_deta = -0.25 * (1 + xi)\n",
    "    dN3_deta = 0.25 * (1 + xi)\n",
    "    dN4_deta = 0.25 * (1 - xi)\n",
    "\n",
    "    dx_dxi = x1*dN1_dxi + x2*dN2_dxi + x3*dN3_dxi + x4*dN4_dxi\n",
    "    dx_deta = x1*dN1_deta + x2*dN2_deta + x3*dN3_deta + x4*dN4_deta\n",
    "    dy_dxi = y1*dN1_dxi + y2*dN2_dxi + y3*dN3_dxi + y4*dN4_dxi\n",
    "    dy_deta = y1*dN1_deta + y2*dN2_deta + y3*dN3_deta + y4*dN4_deta\n",
    "    J = np.array([\n",
    "        [dx_dxi, dx_deta],\n",
    "        [dy_dxi, dy_deta]\n",
    "    ])\n",
    "    return J\n",
    "\n",
    "# Вычисление значений xi, eta, и весов интегрирования\n",
    "for xi, weight_xi in zip(gauss_nodes, gauss_weights):\n",
    "    for eta, weight_eta in zip(gauss_nodes, gauss_weights):\n",
    "        # Матрица Якобиана для текущей точки интегрирования\n",
    "        J = jacobian_matrix(xi, eta)\n",
    "        \n",
    "        # Выводим матрицу Якобиана и вес интегрирования для каждой точки\n",
    "        # print(f\"Точка интегрирования: xi={xi}, eta={eta}\")\n",
    "        # print(\"Матрица Якобиана:\")\n",
    "        # print(J)\n",
    "        # print(\"Вес интегрирования:\", weight_xi * weight_eta)\n",
    "        # print(\"\\n\")\n"
   ]
  },
  {
   "cell_type": "code",
   "execution_count": 73,
   "metadata": {},
   "outputs": [
    {
     "data": {
      "text/plain": [
       "array([[-1.66666654e-02,  1.30104261e-18],\n",
       "       [ 0.00000000e+00, -1.66666671e-02]])"
      ]
     },
     "execution_count": 73,
     "metadata": {},
     "output_type": "execute_result"
    }
   ],
   "source": []
  },
  {
   "cell_type": "code",
   "execution_count": 64,
   "metadata": {},
   "outputs": [
    {
     "name": "stdout",
     "output_type": "stream",
     "text": [
      "Массив значений для каждой стороны:\n",
      "[[0.42264973 0.42264973 1.        ]\n",
      " [0.42264973 1.57735027 1.        ]\n",
      " [1.57735027 0.42264973 1.        ]\n",
      " [1.57735027 1.57735027 1.        ]]\n"
     ]
    }
   ],
   "source": [
    "import numpy as np\n",
    "\n",
    "# Координаты узлов квадрата\n",
    "x1, y1 = 0.0, 0.0\n",
    "x2, y2 = 1.0, 0.0\n",
    "x3, y3 = 1.0, 1.0\n",
    "x4, y4 = 0.0, 1.0\n",
    "\n",
    "# Гауссовы узлы и веса для квадратурной формулы с 4 точками\n",
    "gauss_nodes, gauss_weights = np.polynomial.legendre.leggauss(2)\n",
    "# gauss_weights = np.array([1.0, 1.0])\n",
    "\n",
    "# Проекция точек интегрирования на квадрат со сторонами 1x1\n",
    "def project_to_square(xi, eta):\n",
    "    # Проекция от (-1, -1) до (1, 1) на квадрат со сторонами 1x1\n",
    "    x = 0.5 * (x1 * (1 - xi) + x2 * (1 + xi) + x3 * (1 + xi) + x4 * (1 - xi))\n",
    "    y = 0.5 * (y1 * (1 - eta) + y2 * (1 - eta) + y3 * (1 + eta) + y4 * (1 + eta))\n",
    "    return x, y\n",
    "# Собираем значения в массив\n",
    "results = []\n",
    "# Проекция и сбор результатов\n",
    "for xi, weight_xi in zip(gauss_nodes, gauss_weights):\n",
    "    for eta, weight_eta in zip(gauss_nodes, gauss_weights):\n",
    "        x, y = project_to_square(xi, eta)\n",
    "        results.append([x, y, weight_xi * weight_eta])\n",
    "\n",
    "# Преобразование в numpy array для удобства\n",
    "results_array = np.array(results)\n",
    "\n",
    "# Вывод результатов\n",
    "print(\"Массив значений для каждой стороны:\")\n",
    "print(results_array)\n"
   ]
  },
  {
   "cell_type": "code",
   "execution_count": 71,
   "metadata": {},
   "outputs": [
    {
     "name": "stdout",
     "output_type": "stream",
     "text": [
      "Массив значений для каждой стороны:\n",
      "[0.78867513 0.         1.        ]\n"
     ]
    }
   ],
   "source": [
    "import numpy as np\n",
    "\n",
    "# Координаты узлов квадрата\n",
    "x1, y1 = 0.0, 0.0\n",
    "x2, y2 = 1.0, 0.0\n",
    "x3, y3 = 1.0, 1.0\n",
    "x4, y4 = 0.0, 1.0\n",
    "\n",
    "# Гауссовы узлы и веса для квадратурной формулы с 4 точками\n",
    "gauss_nodes, gauss_weights = np.polynomial.legendre.leggauss(2)\n",
    "\n",
    "# gauss_nodes = np.array([-np.sqrt(3)/3, np.sqrt(3)/3])\n",
    "# gauss_weights = np.array([1.0, 1.0])\n",
    "\n",
    "# Проекция точек интегрирования на квадрат со сторонами 1x1\n",
    "def project_to_square(xi, eta, side):\n",
    "    if side == 1:\n",
    "        x = 0.5 * (x1 * (1 - xi) + x2 * (1 + xi))\n",
    "        y = 0.5 * (y1 * (1 - eta) + y2 * (1 - eta))\n",
    "    elif side == 2:\n",
    "        x = 0.5 * (x2 * (1 + eta) + x3 * (1 - eta))\n",
    "        y = 0.5 * (y2 * (1 + eta) + y3 * (1 - eta))\n",
    "    elif side == 3:\n",
    "        x = 0.5 * (x3 * (1 - xi) + x4 * (1 + xi))\n",
    "        y = 0.5 * (y3 * (1 - xi) + y4 * (1 + xi))\n",
    "    elif side == 4:\n",
    "        x = 0.5 * (x4 * (1 - eta) + x1 * (1 + eta))\n",
    "        y = 0.5 * (y4 * (1 - eta) + y1 * (1 + eta))\n",
    "    return x, y\n",
    "\n",
    "# Собираем значения в массив\n",
    "results = []\n",
    "\n",
    "# Проекция и сбор результатов\n",
    "for side in range(1, 5):\n",
    "    for xi, weight_xi in zip(gauss_nodes, gauss_weights):\n",
    "        for eta, weight_eta in zip(gauss_nodes, gauss_weights):\n",
    "            x, y = project_to_square(xi, eta, side)\n",
    "            results.append([x, y, weight_xi * weight_eta])\n",
    "\n",
    "# Преобразование в numpy array для удобства\n",
    "results_array = np.array(results)\n",
    "\n",
    "# Вывод результатов\n",
    "print(\"Массив значений для каждой стороны:\")\n",
    "print(results_array[3])"
   ]
  },
  {
   "cell_type": "code",
   "execution_count": 82,
   "metadata": {},
   "outputs": [
    {
     "ename": "ValueError",
     "evalue": "shapes (4,) and (2,) not aligned: 4 (dim 0) != 2 (dim 0)",
     "output_type": "error",
     "traceback": [
      "\u001b[0;31m---------------------------------------------------------------------------\u001b[0m",
      "\u001b[0;31mValueError\u001b[0m                                Traceback (most recent call last)",
      "Cell \u001b[0;32mIn[82], line 48\u001b[0m\n\u001b[1;32m     46\u001b[0m \u001b[38;5;28;01mfor\u001b[39;00m xi, weight_xi \u001b[38;5;129;01min\u001b[39;00m \u001b[38;5;28mzip\u001b[39m(gauss_nodes, gauss_weights):\n\u001b[1;32m     47\u001b[0m     \u001b[38;5;28;01mfor\u001b[39;00m eta, weight_eta \u001b[38;5;129;01min\u001b[39;00m \u001b[38;5;28mzip\u001b[39m(gauss_nodes, gauss_weights):\n\u001b[0;32m---> 48\u001b[0m         dN_dx, dN_dy \u001b[38;5;241m=\u001b[39m \u001b[43mdN_dx_dy\u001b[49m\u001b[43m(\u001b[49m\u001b[43mxi\u001b[49m\u001b[43m,\u001b[49m\u001b[43m \u001b[49m\u001b[43meta\u001b[49m\u001b[43m)\u001b[49m\n\u001b[1;32m     49\u001b[0m         \u001b[38;5;28mprint\u001b[39m(\u001b[38;5;124mf\u001b[39m\u001b[38;5;124m\"\u001b[39m\u001b[38;5;124mТочка интегрирования: xi=\u001b[39m\u001b[38;5;132;01m{\u001b[39;00mxi\u001b[38;5;132;01m}\u001b[39;00m\u001b[38;5;124m, eta=\u001b[39m\u001b[38;5;132;01m{\u001b[39;00meta\u001b[38;5;132;01m}\u001b[39;00m\u001b[38;5;124m\"\u001b[39m)\n\u001b[1;32m     50\u001b[0m         \u001b[38;5;28mprint\u001b[39m(\u001b[38;5;124m\"\u001b[39m\u001b[38;5;124mМатрица производных dN/dx:\u001b[39m\u001b[38;5;124m\"\u001b[39m)\n",
      "Cell \u001b[0;32mIn[82], line 40\u001b[0m, in \u001b[0;36mdN_dx_dy\u001b[0;34m(xi, eta)\u001b[0m\n\u001b[1;32m     37\u001b[0m inv_J \u001b[38;5;241m=\u001b[39m np\u001b[38;5;241m.\u001b[39mlinalg\u001b[38;5;241m.\u001b[39minv(J)\n\u001b[1;32m     38\u001b[0m dN_dxi, dN_deta \u001b[38;5;241m=\u001b[39m dN_dxi_deta(xi, eta)\n\u001b[0;32m---> 40\u001b[0m dN_dx \u001b[38;5;241m=\u001b[39m \u001b[43mnp\u001b[49m\u001b[38;5;241;43m.\u001b[39;49m\u001b[43mdot\u001b[49m\u001b[43m(\u001b[49m\u001b[43mdN_dxi\u001b[49m\u001b[43m,\u001b[49m\u001b[43m \u001b[49m\u001b[43minv_J\u001b[49m\u001b[43m[\u001b[49m\u001b[38;5;241;43m0\u001b[39;49m\u001b[43m,\u001b[49m\u001b[43m \u001b[49m\u001b[43m:\u001b[49m\u001b[43m]\u001b[49m\u001b[43m)\u001b[49m\n\u001b[1;32m     41\u001b[0m dN_dy \u001b[38;5;241m=\u001b[39m np\u001b[38;5;241m.\u001b[39mdot(dN_deta, inv_J[\u001b[38;5;241m1\u001b[39m, :])\n\u001b[1;32m     43\u001b[0m \u001b[38;5;28;01mreturn\u001b[39;00m dN_dx, dN_dy\n",
      "\u001b[0;31mValueError\u001b[0m: shapes (4,) and (2,) not aligned: 4 (dim 0) != 2 (dim 0)"
     ]
    }
   ],
   "source": [
    "import numpy as np\n",
    "\n",
    "# Координаты узлов квадрата\n",
    "x1, y1 = 0.0, 0.0\n",
    "x2, y2 = 1.0, 0.0\n",
    "x3, y3 = 1.0, 1.0\n",
    "x4, y4 = 0.0, 1.0\n",
    "\n",
    "# Гауссовы узлы и веса для квадратурной формулы с 4 точками\n",
    "gauss_nodes = np.array([-np.sqrt(3)/3, np.sqrt(3)/3])\n",
    "gauss_weights = np.array([1.0, 1.0])\n",
    "\n",
    "# Производные базисных функций по параметрическим координатам\n",
    "def dN_dxi_deta(xi, eta):\n",
    "    dN_dxi = np.array([-0.25 * (1 - eta), 0.25 * (1 - eta), 0.25 * (1 + eta), -0.25 * (1 + eta)])\n",
    "    dN_deta = np.array([-0.25 * (1 - xi), -0.25 * (1 + xi), 0.25 * (1 + xi), 0.25 * (1 - xi)])\n",
    "    return dN_dxi, dN_deta\n",
    "\n",
    "# Матрица Якобиана\n",
    "def jacobian_matrix(xi, eta):\n",
    "    dN_dxi, dN_deta = dN_dxi_deta(xi, eta)\n",
    "    dx_dxi = x1*dN_dxi[0] + x2*dN_dxi[1] + x3*dN_dxi[2] + x4*dN_dxi[3]\n",
    "    dx_deta = x1*dN_deta[0] + x2*dN_deta[1] + x3*dN_deta[2] + x4*dN_deta[3]\n",
    "    dy_dxi = y1*dN_dxi[0] + y2*dN_dxi[1] + y3*dN_dxi[2] + y4*dN_dxi[3]\n",
    "    dy_deta = y1*dN_deta[0] + y2*dN_deta[1] + y3*dN_deta[2] + y4*dN_deta[3]\n",
    "\n",
    "    J = np.array([\n",
    "        [dx_dxi, dx_deta],\n",
    "        [dy_dxi, dy_deta]\n",
    "    ])\n",
    "\n",
    "    return J\n",
    "\n",
    "# Матрицы производных по глобальным координатам\n",
    "def dN_dx_dy(xi, eta):\n",
    "    J = jacobian_matrix(xi, eta)\n",
    "    inv_J = np.linalg.inv(J)\n",
    "    dN_dxi, dN_deta = dN_dxi_deta(xi, eta)\n",
    "\n",
    "    dN_dx = np.dot(dN_dxi, inv_J[0, :])\n",
    "    dN_dy = np.dot(dN_deta, inv_J[1, :])\n",
    "\n",
    "    return dN_dx, dN_dy\n",
    "\n",
    "# Вычисление и вывод результатов для каждой точки интегрирования\n",
    "for xi, weight_xi in zip(gauss_nodes, gauss_weights):\n",
    "    for eta, weight_eta in zip(gauss_nodes, gauss_weights):\n",
    "        dN_dx, dN_dy = dN_dx_dy(xi, eta)\n",
    "        print(f\"Точка интегрирования: xi={xi}, eta={eta}\")\n",
    "        print(\"Матрица производных dN/dx:\")\n",
    "        print(dN_dx)\n",
    "        print(\"Матрица производных dN/dy:\")\n",
    "        print(dN_dy)\n",
    "        print(\"Вес интегрирования:\", weight_xi * weight_eta)\n",
    "        print(\"\\n\")\n"
   ]
  },
  {
   "cell_type": "code",
   "execution_count": 90,
   "metadata": {},
   "outputs": [
    {
     "data": {
      "text/plain": [
       "[[-0.016666667094999997, -0.0], [-0.0, -0.01666666545]]"
      ]
     },
     "execution_count": 90,
     "metadata": {},
     "output_type": "execute_result"
    }
   ],
   "source": [
    "gr.grid[0][0].surface['Jakobian'][0][0]"
   ]
  }
 ],
 "metadata": {
  "kernelspec": {
   "display_name": "Python 3",
   "language": "python",
   "name": "python3"
  },
  "language_info": {
   "codemirror_mode": {
    "name": "ipython",
    "version": 3
   },
   "file_extension": ".py",
   "mimetype": "text/x-python",
   "name": "python",
   "nbconvert_exporter": "python",
   "pygments_lexer": "ipython3",
   "version": "3.11.2"
  }
 },
 "nbformat": 4,
 "nbformat_minor": 2
}
