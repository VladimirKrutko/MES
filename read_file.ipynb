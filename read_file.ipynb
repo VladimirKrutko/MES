{
 "cells": [
  {
   "cell_type": "code",
   "execution_count": 4,
   "metadata": {},
   "outputs": [
    {
     "name": "stdout",
     "output_type": "stream",
     "text": [
      "[0.100000001, 0.0546918176, 0.0623899326, 0.100000001] [0.00499999989, 0.00499999989, -0.0326100662, -0.0403081849] [[[-1.0, -0.7745966692414834, 0.5555555555555555], [-1.0, 0.0, 0.8888888888888892], [-1.0, 0.7745966692414834, 0.5555555555555555]], [[-0.7745966692414834, -1.0, 0.5555555555555555], [0.0, -1.0, 0.8888888888888892], [0.7745966692414834, -1.0, 0.5555555555555555]]] 300.0 [0, -1]\n",
      "[0.0546918176, 0.0226540919, 0.0303522106, 0.0623899326] [0.00499999989, 0.00499999989, -0.0253522098, -0.0326100662] [[[-0.7745966692414834, -1.0, 0.5555555555555555], [0.0, -1.0, 0.8888888888888892], [0.7745966692414834, -1.0, 0.5555555555555555]]] 300.0 [0]\n",
      "[0.0226540919, 0.0, 0.0, 0.0303522106] [0.00499999989, 0.00499999989, -0.0176540911, -0.0253522098] [[[1.0, -0.7745966692414834, 0.5555555555555555], [1.0, 0.0, 0.8888888888888892], [1.0, 0.7745966692414834, 0.5555555555555555]], [[-0.7745966692414834, -1.0, 0.5555555555555555], [0.0, -1.0, 0.8888888888888892], [0.7745966692414834, -1.0, 0.5555555555555555]]] 300.0 [0, 1]\n",
      "[0.100000001, 0.0623899326, 0.069647789, 0.100000001] [-0.0403081849, -0.0326100662, -0.0646477863, -0.072345905] [[[-1.0, -0.7745966692414834, 0.5555555555555555], [-1.0, 0.0, 0.8888888888888892], [-1.0, 0.7745966692414834, 0.5555555555555555]]] 300.0 [3]\n",
      "[0.0623899326, 0.0303522106, 0.0376100652, 0.069647789] [-0.0326100662, -0.0253522098, -0.0573899336, -0.0646477863] [] 300.0 []\n",
      "[0.0303522106, 0.0, 0.0, 0.0376100652] [-0.0253522098, -0.0176540911, -0.0496918149, -0.0573899336] [[[1.0, -0.7745966692414834, 0.5555555555555555], [1.0, 0.0, 0.8888888888888892], [1.0, 0.7745966692414834, 0.5555555555555555]]] 300.0 [1]\n",
      "[0.100000001, 0.069647789, 0.0773459077, 0.100000001] [-0.072345905, -0.0646477863, -0.0949999988, -0.0949999988] [[[-0.7745966692414834, 1.0, 0.5555555555555555]], [[-1.0, -0.7745966692414834, 0.5555555555555555], [-1.0, 0.0, 0.8888888888888892], [-1.0, 0.7745966692414834, 0.5555555555555555]]] 300.0 [2, 3]\n",
      "[0.069647789, 0.0376100652, 0.0453081839, 0.0773459077] [-0.0646477863, -0.0573899336, -0.0949999988, -0.0949999988] [[[-0.7745966692414834, 1.0, 0.5555555555555555]]] 300.0 [2]\n",
      "[0.0376100652, 0.0, 0.0, 0.0453081839] [-0.0573899336, -0.0496918149, -0.0949999988, -0.0949999988] [[[1.0, -0.7745966692414834, 0.5555555555555555], [1.0, 0.0, 0.8888888888888892], [1.0, 0.7745966692414834, 0.5555555555555555]], [[-0.7745966692414834, 1.0, 0.5555555555555555]]] 300.0 [1, 2]\n"
     ]
    }
   ],
   "source": [
    "import numpy as np\n",
    "import math\n",
    "from Grid import Grid \n",
    "from MesData import MesData\n",
    "from ParaviewFile import ParaviewFile\n",
    "\n",
    "data_4_4 = MesData('Test1_4_4.txt').data\n",
    "data_31_31 = MesData('Test3_31_31_kwadrat.txt').data\n",
    "data_mix = MesData('Test2_4_4_MixGrid.txt').data\n",
    "data_trap = MesData('Test4_31_31_trapez.txt').data \n",
    "# gr = Grid(data_4_4)\n",
    "# gr_31_31 = Grid(data_31_31)\n",
    "gr_mix = Grid(data_mix, 3)\n",
    "# gr_trapez = Grid(data_trap)"
   ]
  },
  {
   "cell_type": "code",
   "execution_count": 5,
   "metadata": {},
   "outputs": [
    {
     "data": {
      "text/plain": [
       "{'dNdx': [[20.363488601712767,\n",
       "   -19.92402714667818,\n",
       "   -2.5865021817329623,\n",
       "   2.147040726698376],\n",
       "  [13.938970072290163,\n",
       "   -11.84609903285496,\n",
       "   -12.317839135991695,\n",
       "   10.224968096556495],\n",
       "  [6.495868393941227,\n",
       "   -2.4874459250424885,\n",
       "   -23.592042811349756,\n",
       "   19.583620342451017],\n",
       "  [20.238066035545778,\n",
       "   -19.7663259168182,\n",
       "   -2.7764820607618956,\n",
       "   2.304741942034317],\n",
       "  [13.294313046892176,\n",
       "   -11.03553352737979,\n",
       "   -13.294313046892176,\n",
       "   11.03553352737979],\n",
       "  [5.154867971965504,\n",
       "   -0.8013265746637076,\n",
       "   -25.623280934842516,\n",
       "   21.26973953754072],\n",
       "  [20.092758184838736,\n",
       "   -19.58362173953083,\n",
       "   -2.9965825478027974,\n",
       "   2.4874461024948915],\n",
       "  [12.538648086508166,\n",
       "   -10.085391162600011,\n",
       "   -14.43893272856103,\n",
       "   11.985675804652875],\n",
       "  [3.5611969080381805,\n",
       "   1.2024905569279543,\n",
       "   -28.037243949549946,\n",
       "   23.273556484583814]],\n",
       " 'dNdy': [[20.363487976985706,\n",
       "   2.1470408585690333,\n",
       "   -2.586502102382222,\n",
       "   -19.924026733172518],\n",
       "  [20.2380654752466,\n",
       "   2.3047420074200202,\n",
       "   -2.776481883821046,\n",
       "   -19.766325598845572],\n",
       "  [20.092757709548412,\n",
       "   2.487446077820739,\n",
       "   -2.996582242097509,\n",
       "   -19.58362154527164],\n",
       "  [13.938969375896534,\n",
       "   10.22496906250289,\n",
       "   -12.317839165195643,\n",
       "   -11.84609927320378],\n",
       "  [13.294312639038825,\n",
       "   11.03553420517925,\n",
       "   -13.294312639038825,\n",
       "   -11.03553420517925],\n",
       "  [12.538648071130265,\n",
       "   11.985676076476384,\n",
       "   -14.438931726217879,\n",
       "   -10.08539242138877],\n",
       "  [6.495867083533615,\n",
       "   19.583622942351536,\n",
       "   -23.592043770611998,\n",
       "   -2.4874462552731527],\n",
       "  [5.154867158475074,\n",
       "   21.269741667926876,\n",
       "   -25.62328114141513,\n",
       "   -0.8013276849868222],\n",
       "  [3.561196798784992,\n",
       "   23.273557914039305,\n",
       "   -28.03724308940141,\n",
       "   1.2024883765771162]],\n",
       " 'Jakobian': [[[-0.022220296996111395, -0.00043379539888860536],\n",
       "   [-0.0004337951903905235, -0.02222029650960948]],\n",
       "  [[-0.022220296996111395, -0.0019245296749999998],\n",
       "   [-0.0004337951903905235, -0.020729562950000002]],\n",
       "  [[-0.022220296996111395, -0.0034152639511113945],\n",
       "   [-0.0004337951903905235, -0.019238829390390528]],\n",
       "  [[-0.02072956272, -0.00043379539888860536],\n",
       "   [-0.0019245287500000013, -0.02222029650960948]],\n",
       "  [[-0.02072956272, -0.0019245296749999998],\n",
       "   [-0.0019245287500000013, -0.020729562950000002]],\n",
       "  [[-0.02072956272, -0.0034152639511113945],\n",
       "   [-0.0019245287500000013, -0.019238829390390528]],\n",
       "  [[-0.019238828443888606, -0.00043379539888860536],\n",
       "   [-0.00341526230960948, -0.02222029650960948]],\n",
       "  [[-0.019238828443888606, -0.0019245296749999998],\n",
       "   [-0.00341526230960948, -0.020729562950000002]],\n",
       "  [[-0.019238828443888606, -0.0034152639511113945],\n",
       "   [-0.00341526230960948, -0.019238829390390528]]],\n",
       " 'H': array([[ 17.77017677,  -3.40951492, -10.95114686,  -3.40951499],\n",
       "        [ -3.40951492,  14.6631648 ,  -5.16445575,  -6.08919413],\n",
       "        [-10.95114686,  -5.16445575,  21.2800575 ,  -5.16445489],\n",
       "        [ -3.40951499,  -6.08919413,  -5.16445489,  14.66316401]]),\n",
       " 'Hbc': array([[9.06163682, 2.26540924, 0.        , 2.26540917],\n",
       "        [2.26540924, 4.53081848, 0.        , 0.        ],\n",
       "        [0.        , 0.        , 0.        , 0.        ],\n",
       "        [2.26540917, 0.        , 0.        , 4.53081834]]),\n",
       " 'P': array([[16310.9462742],\n",
       "        [ 8155.4732622],\n",
       "        [    0.       ],\n",
       "        [ 8155.473012 ]]),\n",
       " 'C': array([[1139.58553695,  543.34302896,  258.44665067,  543.34304086],\n",
       "        [ 543.34302896, 1033.78657887,  490.44356182,  258.44665067],\n",
       "        [ 258.44665067,  490.44356182,  927.9876684 ,  490.44357372],\n",
       "        [ 543.34304086,  258.44665067,  490.44357372, 1033.78662648]])}"
      ]
     },
     "execution_count": 5,
     "metadata": {},
     "output_type": "execute_result"
    }
   ],
   "source": [
    "gr_mix.grid[0][0].surface"
   ]
  },
  {
   "cell_type": "code",
   "execution_count": 10,
   "metadata": {},
   "outputs": [],
   "source": [
    "ParaviewFile(gr.data, gr.TempinTime).to_file('paraview_data/')\n",
    "# ParaviewFile(gr_31_31.data, gr_31_31.TempinTime).to_file('paraview_data_31_31/')\n",
    "ParaviewFile(gr_mix.data, gr_mix.TempinTime).to_file('paraview_data_mix/')"
   ]
  },
  {
   "cell_type": "code",
   "execution_count": 62,
   "metadata": {},
   "outputs": [
    {
     "name": "stderr",
     "output_type": "stream",
     "text": [
      "No artists with labels found to put in legend.  Note that artists whose label start with an underscore are ignored when legend() is called with no argument.\n"
     ]
    },
    {
     "data": {
      "image/png": "[encoded data removed]",
      "text/plain": [
       "<Figure size 640x480 with 1 Axes>"
      ]
     },
     "metadata": {},
     "output_type": "display_data"
    }
   ],
   "source": [
    "import numpy as np\n",
    "import matplotlib.pyplot as plt\n",
    "from scipy.integrate import quadrature\n",
    "\n",
    "# Определите количество узлов для квадратуры\n",
    "num_nodes = 3\n",
    "\n",
    "# Получите узлы и веса интегрирования\n",
    "nodes_x, weights_x = np.polynomial.legendre.leggauss(num_nodes)\n",
    "nodes_y, weights_y = np.polynomial.legendre.leggauss(num_nodes)\n",
    "\n",
    "# Создайте комбинацию узлов и весов для двумерной квадратуры\n",
    "nodes_combinations = np.array(np.meshgrid(nodes_x, nodes_y)).T.reshape(-1, 2)\n",
    "weights_combinations = np.outer(weights_x, weights_y).reshape(-1)\n",
    "\n",
    "# Определите функцию, которую вы интегрируете\n",
    "def integrand(x, y):\n",
    "    return x**2 + y**2\n",
    "\n",
    "# Задайте пределы интегрирования\n",
    "x_lower, x_upper = -1, 1\n",
    "y_lower, y_upper = -1, 1\n",
    "\n",
    "# Создайте сетку для отображения интегрируемой функции\n",
    "x_vals = np.linspace(x_lower, x_upper, 100)\n",
    "y_vals = np.linspace(y_lower, y_upper, 100)\n",
    "# X, Y = np.meshgrid(x_vals, y_vals)\n",
    "# Z = integrand(X, Y)\n",
    "\n",
    "# Постройте график функции и узлов интегрирования\n",
    "# plt.contourf(X, Y, Z, cmap=\"viridis\")\n",
    "plt.scatter(nodes_combinations[:, 0], nodes_combinations[:, 1], color='red', marker='o')\n",
    "plt.title('Integration Nodes for 2D Quadrature')\n",
    "plt.xlabel('x')\n",
    "plt.ylabel('y')\n",
    "plt.legend()\n",
    "plt.show()"
   ]
  },
  {
   "cell_type": "code",
   "execution_count": 10,
   "metadata": {},
   "outputs": [
    {
     "name": "stdout",
     "output_type": "stream",
     "text": [
      "[0.0320377257, 0.03131321868772068, 0.03284953744685464, 0.038389816955117055]\n",
      "[[1, -0.5773502691896258], [1, 0.5773502691896258]]\n",
      "[[-0.5773502691896258, 1], [0.5773502691896258, 1]]\n",
      "[[-1, 0.5773502691896258], [-1, -0.5773502691896258]]\n",
      "[[-0.5773502691896258, -1], [0.5773502691896258, -1]]\n"
     ]
    },
    {
     "data": {
      "text/plain": [
       "array([[7.12393544, 1.91949085, 0.        , 1.64247687],\n",
       "       [1.91949085, 7.12393544, 1.64247687, 0.        ],\n",
       "       [0.        , 1.64247687, 7.12393544, 1.91949085],\n",
       "       [1.64247687, 0.        , 1.91949085, 7.12393544]])"
      ]
     },
     "execution_count": 10,
     "metadata": {},
     "output_type": "execute_result"
    }
   ],
   "source": [
    "from sympy import N\n",
    "from Calkowanie import Calkowanie\n",
    "from itertools import chain\n",
    "\n",
    "Dot_ranged = []\n",
    "calkowanie = Calkowanie()\n",
    "def test_Hbc(n_range, alfa, length):\n",
    "    dot_nranges = [ np.dot( n_range[i].reshape(4,1), n_range[i].reshape(1,4) ) for i in range( len( n_range))]\n",
    "    Dot_ranged.append(dot_nranges)\n",
    "    return alfa * sum(dot_nranges) * length\n",
    "\n",
    "def L(x, y):\n",
    "    # x = np.array(x)\n",
    "    # y = np.array(y)\n",
    "    # distances = np.sqrt((np.diff(x)**2) + (np.diff(y)**2))\n",
    "    # return distances\n",
    "    lengths = []\n",
    "    for first in range(4):\n",
    "        last = first+1 if first < 3 else 0\n",
    "        lengths.append( math.sqrt( ( ( x[first] - x[last] )**2 + ( y[first] - y[last] )**2 ) ) )\n",
    "    return lengths\n",
    "\n",
    "def Hbc_calulation(x, y, pc, alfa, L_ind):\n",
    "    lengths = L(x, y)\n",
    "    \n",
    "    # lengths = [lengths[3], lengths[0], lengths[1], lengths[2]]\n",
    "    # lengths = [lengths[0], lengths[-1], lengths[-2], lengths[-3]]\n",
    "    Hbc = []\n",
    "    print(lengths)\n",
    "    for i in range(len(pc)):\n",
    "        Pcs = pc[i]\n",
    "        print(Pcs)\n",
    "        N_range = [ calkowanie.N_range(pc) for pc in Pcs]\n",
    "        Hbc.append(test_Hbc( N_range, alfa, lengths[L_ind[i]]/2 ) )\n",
    "    return Hbc\n",
    "\n",
    "nr = 0\n",
    "nr_2 = 1\n",
    "Pc_1 = Grid.PC\n",
    "# Pc_1 = [Grid.PC[1], Grid.PC[-2]]\n",
    "# Pc_1 = gr_mix.grid[nr][nr_2].pc\n",
    "x, y = gr_mix.grid[nr][nr_2].x, gr_mix.grid[nr][nr_2].y\n",
    "L_ind = [2,3, 2,3]\n",
    "\n",
    "alfa = data_mix['Alfa']\n",
    "\n",
    "sum(Hbc_calulation(x,y, Pc_1, alfa, L_ind))"
   ]
  },
  {
   "cell_type": "code",
   "execution_count": 7,
   "metadata": {},
   "outputs": [
    {
     "data": {
      "image/png": "[encoded data removed]",
      "text/plain": [
       "<Figure size 640x480 with 1 Axes>"
      ]
     },
     "metadata": {},
     "output_type": "display_data"
    }
   ],
   "source": [
    "import numpy as np\n",
    "import matplotlib.pyplot as plt\n",
    "Dist = []\n",
    "def calculate_distances_and_plot(x, y):\n",
    "    # Проверка, что массивы x и y имеют одинаковую длину\n",
    "    if len(x) != len(y):\n",
    "        raise ValueError(\"Массивы x и y должны иметь одинаковую длину\")\n",
    "\n",
    "    # Используем numpy для эффективных вычислений\n",
    "    x = np.array(x)\n",
    "    y = np.array(y)\n",
    "\n",
    "    # Вычисляем расстояния между точками\n",
    "    distances = np.sqrt((np.diff(x)**2) + (np.diff(y)**2))\n",
    "    Dist.append(distances)\n",
    "    # Строим график линиями, соединяющими точки\n",
    "    plt.plot(x, y, marker='o', linestyle='-')\n",
    "\n",
    "    # Подписываем линии с расстояниями (кроме последней линии)\n",
    "    for i in range(len(x) - 1):\n",
    "        plt.annotate(f\"Dist: {distances[i]:.2f}\",\n",
    "                     ((x[i] + x[i + 1]) / 2, (y[i] + y[i + 1]) / 2),\n",
    "                     textcoords=\"offset points\", xytext=(0, 10), ha='center')\n",
    "\n",
    "    # Соединяем первую и последнюю точку\n",
    "    plt.plot([x[0], x[-1]], [y[0], y[-1]], linestyle='-', color='black', label='First-Last Line')\n",
    "\n",
    "    # Вычисляем и подписываем расстояние между первой и последней точками\n",
    "    distance_first_last = np.sqrt((x[-1] - x[0])**2 + (y[-1] - y[0])**2)\n",
    "    Dist.append(distance_first_last)\n",
    "    plt.annotate(f\"Dist: {distance_first_last:.2f}\",\n",
    "                 ((x[0] + x[-1]) / 2, (y[0] + y[-1]) / 2),\n",
    "                 textcoords=\"offset points\", xytext=(0, 10), ha='center')\n",
    "\n",
    "    plt.xlabel('x')\n",
    "    plt.ylabel('y')\n",
    "    plt.title('Connected Points with Distances')\n",
    "    plt.grid(True)\n",
    "    plt.legend()\n",
    "    plt.show()\n",
    "\n",
    "# Пример использования\n",
    "row = 2\n",
    "col = 0\n",
    "x, y = gr_mix.grid[row][col].x, gr_mix.grid[row][col].y\n",
    "\n",
    "\n",
    "calculate_distances_and_plot(x, y)\n"
   ]
  },
  {
   "cell_type": "code",
   "execution_count": 12,
   "metadata": {},
   "outputs": [
    {
     "data": {
      "image/png": "[encoded data removed]",
      "text/plain": [
       "<Figure size 640x480 with 1 Axes>"
      ]
     },
     "metadata": {},
     "output_type": "display_data"
    }
   ],
   "source": [
    "x, y = gr_trapez.grid[1][1].x, gr_trapez.grid[1][1].y\n",
    "\n",
    "calculate_distances_and_plot(x, y)"
   ]
  },
  {
   "cell_type": "code",
   "execution_count": 145,
   "metadata": {},
   "outputs": [
    {
     "data": {
      "text/plain": [
       "([0.100000001, 0.0546918176, 0.0623899326, 0.100000001],\n",
       " [0.00499999989, 0.00499999989, -0.0326100662, -0.0403081849])"
      ]
     },
     "execution_count": 145,
     "metadata": {},
     "output_type": "execute_result"
    }
   ],
   "source": [
    "gr_mix.grid[1][0].x, gr_mix.grid[1][0].y"
   ]
  },
  {
   "cell_type": "code",
   "execution_count": 11,
   "metadata": {},
   "outputs": [
    {
     "data": {
      "text/plain": [
       "[0.0033333299999999955,\n",
       " 0.003333332806618301,\n",
       " 0.0033333299999999955,\n",
       " 0.003333332806618301]"
      ]
     },
     "execution_count": 11,
     "metadata": {},
     "output_type": "execute_result"
    }
   ],
   "source": [
    "L(gr_trapez.grid[1][0].x, gr_trapez.grid[1][0].y)"
   ]
  },
  {
   "cell_type": "markdown",
   "metadata": {},
   "source": [
    "# TEST"
   ]
  },
  {
   "cell_type": "code",
   "execution_count": 2,
   "metadata": {},
   "outputs": [],
   "source": [
    "from Calkowanie import Calkowanie\n",
    "\n",
    "calkowanie = Calkowanie()"
   ]
  },
  {
   "cell_type": "code",
   "execution_count": 2,
   "metadata": {},
   "outputs": [
    {
     "name": "stdout",
     "output_type": "stream",
     "text": [
      "-0.44364916731037085, -0.05635083268962915, 0.05635083268962915, 0.44364916731037085\n",
      "-0.44364916731037085, -0.05635083268962915, 0.05635083268962915, 0.44364916731037085\n",
      "-0.44364916731037085, -0.05635083268962915, 0.05635083268962915, 0.44364916731037085\n",
      "-0.25, -0.25, 0.25, 0.25\n",
      "-0.25, -0.25, 0.25, 0.25\n",
      "-0.25, -0.25, 0.25, 0.25\n",
      "-0.05635083268962915, -0.44364916731037085, 0.44364916731037085, 0.05635083268962915\n",
      "-0.05635083268962915, -0.44364916731037085, 0.44364916731037085, 0.05635083268962915\n",
      "-0.05635083268962915, -0.44364916731037085, 0.44364916731037085, 0.05635083268962915\n"
     ]
    }
   ],
   "source": [
    "calkowanie.matrix9_4()\n",
    "Calkowanie.print_matrix(calkowanie.dNdEta9_4)"
   ]
  },
  {
   "cell_type": "code",
   "execution_count": 2,
   "metadata": {},
   "outputs": [],
   "source": [
    "import numpy as np\n",
    "from numpy.polynomial.legendre import leggauss\n",
    "\n",
    "num_integration_points = 3\n",
    "gauss_nodes, gauss_weights = leggauss(num_integration_points)\n",
    "\n",
    "def compute_dN_dxi_deta(xi, eta):\n",
    "    dN_dxi = np.array([-0.25 * (1 - eta), 0.25 * (1 - eta), 0.25 * (1 + eta), -0.25 * (1 + eta)])\n",
    "    dN_deta = np.array([-0.25 * (1 - xi), -0.25 * (1 + xi), 0.25 * (1 + xi), 0.25 * (1 - xi)])\n",
    "    return dN_dxi, dN_deta\n",
    "\n",
    "Xi = []\n",
    "Eta = []\n",
    "for xi, weight_xi in zip(gauss_nodes, gauss_weights):\n",
    "    for eta, weight_eta in zip(gauss_nodes, gauss_weights):\n",
    "        dN_dxi, dN_deta = compute_dN_dxi_deta(xi, eta)\n",
    "        Xi.append(dN_dxi)\n",
    "        Eta.append(dN_deta)"
   ]
  },
  {
   "cell_type": "code",
   "execution_count": 4,
   "metadata": {},
   "outputs": [
    {
     "name": "stdout",
     "output_type": "stream",
     "text": [
      "Матрица Якобиана:\n",
      "[[0.5 0. ]\n",
      " [0.  0.5]]\n"
     ]
    }
   ],
   "source": [
    "import numpy as np\n",
    "\n",
    "def jacobian_matrix(xi, eta, x_nodes, y_nodes):\n",
    "    # Производные базисных функций по параметрическим координатам\n",
    "    dN_dxi = np.array([-0.25 * (1 - eta), 0.25 * (1 - eta), 0.25 * (1 + eta), -0.25 * (1 + eta)])\n",
    "    dN_deta = np.array([-0.25 * (1 - xi), -0.25 * (1 + xi), 0.25 * (1 + xi), 0.25 * (1 - xi)])\n",
    "\n",
    "    # Вычисление матрицы Якобиана\n",
    "    dx_dxi = np.dot(x_nodes, dN_dxi)\n",
    "    dx_deta = np.dot(x_nodes, dN_deta)\n",
    "    dy_dxi = np.dot(y_nodes, dN_dxi)\n",
    "    dy_deta = np.dot(y_nodes, dN_deta)\n",
    "\n",
    "    J = np.array([\n",
    "        [dx_dxi, dx_deta],\n",
    "        [dy_dxi, dy_deta]\n",
    "    ])\n",
    "\n",
    "    return J\n",
    "\n",
    "# Пример использования\n",
    "x_nodes = np.array([0.0, 1.0, 1.0, 0.0])\n",
    "y_nodes = np.array([0.0, 0.0, 1.0, 1.0])\n",
    "xi = 0.1\n",
    "eta = 0.2\n",
    "\n",
    "Jacobian = jacobian_matrix(xi, eta, x_nodes, y_nodes)\n",
    "print(\"Матрица Якобиана:\")\n",
    "print(Jacobian)\n"
   ]
  },
  {
   "cell_type": "code",
   "execution_count": 3,
   "metadata": {},
   "outputs": [],
   "source": [
    "from second.Calkowanie import Calkowanie as Calkowanie2\n",
    "from Calkowanie import Calkowanie as Calkowanie1\n",
    "\n",
    "from second.Calculation import Calculation\n",
    "from Calculation import Calculation as Calculation1\n",
    "\n",
    "\n",
    "calkowanie = Calkowanie2(2)\n",
    "calkowanie_2 = Calkowanie1() \n",
    "x , y = calkowanie.default_x_y['x'], calkowanie.default_x_y['y']\n",
    "\n",
    "calculation = Calculation(3)\n",
    "calculation_1 = Calculation1()"
   ]
  },
  {
   "cell_type": "code",
   "execution_count": 62,
   "metadata": {},
   "outputs": [
    {
     "data": {
      "text/plain": [
       "array([[9.06163682, 2.26540924, 0.        , 2.26540917],\n",
       "       [2.26540924, 4.53081848, 0.        , 0.        ],\n",
       "       [0.        , 0.        , 0.        , 0.        ],\n",
       "       [2.26540917, 0.        , 0.        , 4.53081834]])"
      ]
     },
     "execution_count": 62,
     "metadata": {},
     "output_type": "execute_result"
    }
   ],
   "source": [
    "gr_mix.grid[0][0].surface['Hbc']"
   ]
  },
  {
   "cell_type": "code",
   "execution_count": 14,
   "metadata": {},
   "outputs": [
    {
     "data": {
      "text/plain": [
       "array([[16310.9462742],\n",
       "       [ 8155.4732622],\n",
       "       [    0.       ],\n",
       "       [ 8155.473012 ]])"
      ]
     },
     "execution_count": 14,
     "metadata": {},
     "output_type": "execute_result"
    }
   ],
   "source": [
    "gr_mix.grid[0][0].surface['P']"
   ]
  },
  {
   "cell_type": "code",
   "execution_count": 2,
   "metadata": {},
   "outputs": [],
   "source": []
  },
  {
   "cell_type": "code",
   "execution_count": 7,
   "metadata": {},
   "outputs": [
    {
     "name": "stdout",
     "output_type": "stream",
     "text": [
      "[0.100000001, 0.0546918176, 0.0623899326, 0.100000001] [0.00499999989, 0.00499999989, -0.0326100662, -0.0403081849] [[[-1.0, -0.8611363115940526, 0.34785484513745357], [-1.0, -0.33998104358485626, 0.6521451548625466], [-1.0, 0.33998104358485626, 0.6521451548625466], [-1.0, 0.8611363115940526, 0.34785484513745357]], [[-0.8611363115940526, -1.0, 0.34785484513745357], [-0.33998104358485626, -1.0, 0.6521451548625466], [0.33998104358485626, -1.0, 0.6521451548625466], [0.8611363115940526, -1.0, 0.34785484513745357]]] 300.0 [0, -1]\n",
      "[0.0546918176, 0.0226540919, 0.0303522106, 0.0623899326] [0.00499999989, 0.00499999989, -0.0253522098, -0.0326100662] [[[-0.8611363115940526, -1.0, 0.34785484513745357], [-0.33998104358485626, -1.0, 0.6521451548625466], [0.33998104358485626, -1.0, 0.6521451548625466], [0.8611363115940526, -1.0, 0.34785484513745357]]] 300.0 [0]\n",
      "[0.0226540919, 0.0, 0.0, 0.0303522106] [0.00499999989, 0.00499999989, -0.0176540911, -0.0253522098] [[[1.0, -0.8611363115940526, 0.34785484513745357], [1.0, -0.33998104358485626, 0.6521451548625466], [1.0, 0.33998104358485626, 0.6521451548625466], [1.0, 0.8611363115940526, 0.34785484513745357]], [[-0.8611363115940526, -1.0, 0.34785484513745357], [-0.33998104358485626, -1.0, 0.6521451548625466], [0.33998104358485626, -1.0, 0.6521451548625466], [0.8611363115940526, -1.0, 0.34785484513745357]]] 300.0 [0, 1]\n",
      "[0.100000001, 0.0623899326, 0.069647789, 0.100000001] [-0.0403081849, -0.0326100662, -0.0646477863, -0.072345905] [[[-1.0, -0.8611363115940526, 0.34785484513745357], [-1.0, -0.33998104358485626, 0.6521451548625466], [-1.0, 0.33998104358485626, 0.6521451548625466], [-1.0, 0.8611363115940526, 0.34785484513745357]]] 300.0 [3]\n",
      "[0.0623899326, 0.0303522106, 0.0376100652, 0.069647789] [-0.0326100662, -0.0253522098, -0.0573899336, -0.0646477863] [] 300.0 []\n",
      "[0.0303522106, 0.0, 0.0, 0.0376100652] [-0.0253522098, -0.0176540911, -0.0496918149, -0.0573899336] [[[1.0, -0.8611363115940526, 0.34785484513745357], [1.0, -0.33998104358485626, 0.6521451548625466], [1.0, 0.33998104358485626, 0.6521451548625466], [1.0, 0.8611363115940526, 0.34785484513745357]]] 300.0 [1]\n",
      "[0.100000001, 0.069647789, 0.0773459077, 0.100000001] [-0.072345905, -0.0646477863, -0.0949999988, -0.0949999988] [[[-0.8611363115940526, 1.0, 0.34785484513745357]], [[-1.0, -0.8611363115940526, 0.34785484513745357], [-1.0, -0.33998104358485626, 0.6521451548625466], [-1.0, 0.33998104358485626, 0.6521451548625466], [-1.0, 0.8611363115940526, 0.34785484513745357]]] 300.0 [2, 3]\n",
      "[0.069647789, 0.0376100652, 0.0453081839, 0.0773459077] [-0.0646477863, -0.0573899336, -0.0949999988, -0.0949999988] [[[-0.8611363115940526, 1.0, 0.34785484513745357]]] 300.0 [2]\n",
      "[0.0376100652, 0.0, 0.0, 0.0453081839] [-0.0573899336, -0.0496918149, -0.0949999988, -0.0949999988] [[[1.0, -0.8611363115940526, 0.34785484513745357], [1.0, -0.33998104358485626, 0.6521451548625466], [1.0, 0.33998104358485626, 0.6521451548625466], [1.0, 0.8611363115940526, 0.34785484513745357]], [[-0.8611363115940526, 1.0, 0.34785484513745357]]] 300.0 [1, 2]\n",
      "[0.100000001, 0.0546918176, 0.0623899326, 0.100000001] [0.00499999989, 0.00499999989, -0.0326100662, -0.0403081849] [[[-1.0, -0.7745966692414834, 0.5555555555555555], [-1.0, 0.0, 0.8888888888888892], [-1.0, 0.7745966692414834, 0.5555555555555555]], [[-0.7745966692414834, -1.0, 0.5555555555555555], [0.0, -1.0, 0.8888888888888892], [0.7745966692414834, -1.0, 0.5555555555555555]]] 300.0 [0, -1]\n",
      "[0.0546918176, 0.0226540919, 0.0303522106, 0.0623899326] [0.00499999989, 0.00499999989, -0.0253522098, -0.0326100662] [[[-0.7745966692414834, -1.0, 0.5555555555555555], [0.0, -1.0, 0.8888888888888892], [0.7745966692414834, -1.0, 0.5555555555555555]]] 300.0 [0]\n",
      "[0.0226540919, 0.0, 0.0, 0.0303522106] [0.00499999989, 0.00499999989, -0.0176540911, -0.0253522098] [[[1.0, -0.7745966692414834, 0.5555555555555555], [1.0, 0.0, 0.8888888888888892], [1.0, 0.7745966692414834, 0.5555555555555555]], [[-0.7745966692414834, -1.0, 0.5555555555555555], [0.0, -1.0, 0.8888888888888892], [0.7745966692414834, -1.0, 0.5555555555555555]]] 300.0 [0, 1]\n",
      "[0.100000001, 0.0623899326, 0.069647789, 0.100000001] [-0.0403081849, -0.0326100662, -0.0646477863, -0.072345905] [[[-1.0, -0.7745966692414834, 0.5555555555555555], [-1.0, 0.0, 0.8888888888888892], [-1.0, 0.7745966692414834, 0.5555555555555555]]] 300.0 [3]\n",
      "[0.0623899326, 0.0303522106, 0.0376100652, 0.069647789] [-0.0326100662, -0.0253522098, -0.0573899336, -0.0646477863] [] 300.0 []\n",
      "[0.0303522106, 0.0, 0.0, 0.0376100652] [-0.0253522098, -0.0176540911, -0.0496918149, -0.0573899336] [[[1.0, -0.7745966692414834, 0.5555555555555555], [1.0, 0.0, 0.8888888888888892], [1.0, 0.7745966692414834, 0.5555555555555555]]] 300.0 [1]\n",
      "[0.100000001, 0.069647789, 0.0773459077, 0.100000001] [-0.072345905, -0.0646477863, -0.0949999988, -0.0949999988] [[[-0.7745966692414834, 1.0, 0.5555555555555555]], [[-1.0, -0.7745966692414834, 0.5555555555555555], [-1.0, 0.0, 0.8888888888888892], [-1.0, 0.7745966692414834, 0.5555555555555555]]] 300.0 [2, 3]\n",
      "[0.069647789, 0.0376100652, 0.0453081839, 0.0773459077] [-0.0646477863, -0.0573899336, -0.0949999988, -0.0949999988] [[[-0.7745966692414834, 1.0, 0.5555555555555555]]] 300.0 [2]\n",
      "[0.0376100652, 0.0, 0.0, 0.0453081839] [-0.0573899336, -0.0496918149, -0.0949999988, -0.0949999988] [[[1.0, -0.7745966692414834, 0.5555555555555555], [1.0, 0.0, 0.8888888888888892], [1.0, 0.7745966692414834, 0.5555555555555555]], [[-0.7745966692414834, 1.0, 0.5555555555555555]]] 300.0 [1, 2]\n",
      "[0.100000001, 0.0546918176, 0.0623899326, 0.100000001] [0.00499999989, 0.00499999989, -0.0326100662, -0.0403081849] [[[-1.0, -0.5773502691896257, 1.0], [-1.0, 0.5773502691896257, 1.0]], [[-0.5773502691896257, -1.0, 1.0], [0.5773502691896257, -1.0, 1.0]]] 300.0 [0, -1]\n",
      "[0.0546918176, 0.0226540919, 0.0303522106, 0.0623899326] [0.00499999989, 0.00499999989, -0.0253522098, -0.0326100662] [[[-0.5773502691896257, -1.0, 1.0], [0.5773502691896257, -1.0, 1.0]]] 300.0 [0]\n",
      "[0.0226540919, 0.0, 0.0, 0.0303522106] [0.00499999989, 0.00499999989, -0.0176540911, -0.0253522098] [[[1.0, -0.5773502691896257, 1.0], [1.0, 0.5773502691896257, 1.0]], [[-0.5773502691896257, -1.0, 1.0], [0.5773502691896257, -1.0, 1.0]]] 300.0 [0, 1]\n",
      "[0.100000001, 0.0623899326, 0.069647789, 0.100000001] [-0.0403081849, -0.0326100662, -0.0646477863, -0.072345905] [[[-1.0, -0.5773502691896257, 1.0], [-1.0, 0.5773502691896257, 1.0]]] 300.0 [3]\n",
      "[0.0623899326, 0.0303522106, 0.0376100652, 0.069647789] [-0.0326100662, -0.0253522098, -0.0573899336, -0.0646477863] [] 300.0 []\n",
      "[0.0303522106, 0.0, 0.0, 0.0376100652] [-0.0253522098, -0.0176540911, -0.0496918149, -0.0573899336] [[[1.0, -0.5773502691896257, 1.0], [1.0, 0.5773502691896257, 1.0]]] 300.0 [1]\n",
      "[0.100000001, 0.069647789, 0.0773459077, 0.100000001] [-0.072345905, -0.0646477863, -0.0949999988, -0.0949999988] [[[-0.5773502691896257, 1.0, 1.0]], [[-1.0, -0.5773502691896257, 1.0], [-1.0, 0.5773502691896257, 1.0]]] 300.0 [2, 3]\n",
      "[0.069647789, 0.0376100652, 0.0453081839, 0.0773459077] [-0.0646477863, -0.0573899336, -0.0949999988, -0.0949999988] [[[-0.5773502691896257, 1.0, 1.0]]] 300.0 [2]\n",
      "[0.0376100652, 0.0, 0.0, 0.0453081839] [-0.0573899336, -0.0496918149, -0.0949999988, -0.0949999988] [[[1.0, -0.5773502691896257, 1.0], [1.0, 0.5773502691896257, 1.0]], [[-0.5773502691896257, 1.0, 1.0]]] 300.0 [1, 2]\n"
     ]
    }
   ],
   "source": [
    "from second.Grid import Grid as Grid2\n",
    "\n",
    "gr_mix_4 = Grid2(data_mix, 4)\n",
    "gr_mix_3 = Grid2(data_mix, 3)\n",
    "gr_mix_2 = Grid2(data_mix, 2)\n",
    "# gr_mix_2.grid[0][0].surface"
   ]
  },
  {
   "cell_type": "code",
   "execution_count": 10,
   "metadata": {},
   "outputs": [
    {
     "data": {
      "text/plain": [
       "array([[9.06163682, 2.26540924, 0.        , 2.26540917],\n",
       "       [2.26540924, 4.53081848, 0.        , 0.        ],\n",
       "       [0.        , 0.        , 0.        , 0.        ],\n",
       "       [2.26540917, 0.        , 0.        , 4.53081834]])"
      ]
     },
     "execution_count": 10,
     "metadata": {},
     "output_type": "execute_result"
    }
   ],
   "source": [
    "gr_mix_3.grid[0][0].surface['Hbc']"
   ]
  },
  {
   "cell_type": "code",
   "execution_count": 11,
   "metadata": {},
   "outputs": [
    {
     "data": {
      "text/plain": [
       "array([[9.06163682, 2.26540924, 0.        , 2.26540917],\n",
       "       [2.26540924, 4.53081848, 0.        , 0.        ],\n",
       "       [0.        , 0.        , 0.        , 0.        ],\n",
       "       [2.26540917, 0.        , 0.        , 4.53081834]])"
      ]
     },
     "execution_count": 11,
     "metadata": {},
     "output_type": "execute_result"
    }
   ],
   "source": [
    "gr_mix_4.grid[0][0].surface['Hbc']"
   ]
  },
  {
   "cell_type": "code",
   "execution_count": 12,
   "metadata": {},
   "outputs": [
    {
     "data": {
      "text/plain": [
       "array([[9.06163682, 2.26540924, 0.        , 2.26540917],\n",
       "       [2.26540924, 4.53081848, 0.        , 0.        ],\n",
       "       [0.        , 0.        , 0.        , 0.        ],\n",
       "       [2.26540917, 0.        , 0.        , 4.53081834]])"
      ]
     },
     "execution_count": 12,
     "metadata": {},
     "output_type": "execute_result"
    }
   ],
   "source": [
    "gr_mix_2.grid[0][0].surface['Hbc']"
   ]
  },
  {
   "cell_type": "code",
   "execution_count": 13,
   "metadata": {},
   "outputs": [
    {
     "data": {
      "text/plain": [
       "array([[9.06163682, 2.26540924, 0.        , 2.26540917],\n",
       "       [2.26540924, 4.53081848, 0.        , 0.        ],\n",
       "       [0.        , 0.        , 0.        , 0.        ],\n",
       "       [2.26540917, 0.        , 0.        , 4.53081834]])"
      ]
     },
     "execution_count": 13,
     "metadata": {},
     "output_type": "execute_result"
    }
   ],
   "source": [
    "gr_mix.grid[0][0].surface['Hbc']"
   ]
  },
  {
   "cell_type": "code",
   "execution_count": 41,
   "metadata": {},
   "outputs": [
    {
     "data": {
      "text/plain": [
       "array([[14.27207799,  3.05830247,  0.        ,  3.05830238],\n",
       "       [ 3.05830247,  7.1360391 ,  0.        ,  0.        ],\n",
       "       [ 0.        ,  0.        ,  0.        ,  0.        ],\n",
       "       [ 3.05830238,  0.        ,  0.        ,  7.13603889]])"
      ]
     },
     "execution_count": 41,
     "metadata": {},
     "output_type": "execute_result"
    }
   ],
   "source": [
    "gr_mix_3.grid[0][0].surface['Hbc']"
   ]
  },
  {
   "cell_type": "code",
   "execution_count": 44,
   "metadata": {},
   "outputs": [
    {
     "data": {
      "text/plain": [
       "[[[-1.0, -0.7745966692414834, 0.5555555555555555],\n",
       "  [-1.0, 0.0, 0.8888888888888892],\n",
       "  [-1.0, 0.7745966692414834, 0.5555555555555555]],\n",
       " [[-0.7745966692414834, -1.0, 0.5555555555555555],\n",
       "  [0.0, -1.0, 0.8888888888888892],\n",
       "  [0.7745966692414834, -1.0, 0.5555555555555555]]]"
      ]
     },
     "execution_count": 44,
     "metadata": {},
     "output_type": "execute_result"
    }
   ],
   "source": [
    "gr_mix_3.grid[0][0].pc"
   ]
  },
  {
   "cell_type": "code",
   "execution_count": 48,
   "metadata": {},
   "outputs": [
    {
     "data": {
      "text/plain": [
       "array([[9.06163682, 2.26540924, 0.        , 2.26540917],\n",
       "       [2.26540924, 4.53081848, 0.        , 0.        ],\n",
       "       [0.        , 0.        , 0.        , 0.        ],\n",
       "       [2.26540917, 0.        , 0.        , 4.53081834]])"
      ]
     },
     "execution_count": 48,
     "metadata": {},
     "output_type": "execute_result"
    }
   ],
   "source": [
    "calculation.Hbc_calulation(gr_mix_3.grid[0][0].x, gr_mix_3.grid[0][0].y, gr_mix_3.grid[0][0].pc, gr_mix_3.data['Alfa'], gr_mix_3.grid[0][0].L_ind)"
   ]
  },
  {
   "cell_type": "code",
   "execution_count": 6,
   "metadata": {},
   "outputs": [
    {
     "ename": "AttributeError",
     "evalue": "'Grid' object has no attribute 'calkowanie'",
     "output_type": "error",
     "traceback": [
      "\u001b[0;31m---------------------------------------------------------------------------\u001b[0m",
      "\u001b[0;31mAttributeError\u001b[0m                            Traceback (most recent call last)",
      "Cell \u001b[0;32mIn[6], line 1\u001b[0m\n\u001b[0;32m----> 1\u001b[0m \u001b[43mGrid2\u001b[49m\u001b[43m(\u001b[49m\u001b[43mdata_mix\u001b[49m\u001b[43m,\u001b[49m\u001b[43m \u001b[49m\u001b[38;5;241;43m2\u001b[39;49m\u001b[43m)\u001b[49m\n",
      "File \u001b[0;32m~/statistic/MES/second/Grid.py:14\u001b[0m, in \u001b[0;36mGrid.__init__\u001b[0;34m(self, data, pc_number)\u001b[0m\n\u001b[1;32m     12\u001b[0m \u001b[38;5;28mself\u001b[39m\u001b[38;5;241m.\u001b[39melemnt_xy \u001b[38;5;241m=\u001b[39m \u001b[38;5;28mself\u001b[39m\u001b[38;5;241m.\u001b[39mdata[\u001b[38;5;124m\"\u001b[39m\u001b[38;5;124mleaf_member\u001b[39m\u001b[38;5;124m\"\u001b[39m]\n\u001b[1;32m     13\u001b[0m \u001b[38;5;28mself\u001b[39m\u001b[38;5;241m.\u001b[39msize \u001b[38;5;241m=\u001b[39m [\u001b[38;5;28mint\u001b[39m(\u001b[38;5;28mself\u001b[39m\u001b[38;5;241m.\u001b[39mdata[\u001b[38;5;124m'\u001b[39m\u001b[38;5;124mElements number\u001b[39m\u001b[38;5;124m'\u001b[39m]\u001b[38;5;241m*\u001b[39m\u001b[38;5;241m*\u001b[39m\u001b[38;5;241m0.5\u001b[39m), \u001b[38;5;28mint\u001b[39m(\u001b[38;5;28mself\u001b[39m\u001b[38;5;241m.\u001b[39mdata[\u001b[38;5;124m'\u001b[39m\u001b[38;5;124mElements number\u001b[39m\u001b[38;5;124m'\u001b[39m]\u001b[38;5;241m*\u001b[39m\u001b[38;5;241m*\u001b[39m\u001b[38;5;241m0.5\u001b[39m)]\n\u001b[0;32m---> 14\u001b[0m \u001b[38;5;28mself\u001b[39m\u001b[38;5;241m.\u001b[39mgrid \u001b[38;5;241m=\u001b[39m \u001b[38;5;28;43mself\u001b[39;49m\u001b[38;5;241;43m.\u001b[39;49m\u001b[43mcreate_grig\u001b[49m\u001b[43m(\u001b[49m\u001b[43m)\u001b[49m\n\u001b[1;32m     15\u001b[0m \u001b[38;5;28mself\u001b[39m\u001b[38;5;241m.\u001b[39mH_glob \u001b[38;5;241m=\u001b[39m \u001b[38;5;28mself\u001b[39m\u001b[38;5;241m.\u001b[39mcreate_H_glob()\n\u001b[1;32m     16\u001b[0m \u001b[38;5;28mself\u001b[39m\u001b[38;5;241m.\u001b[39mP_glob \u001b[38;5;241m=\u001b[39m \u001b[38;5;28mself\u001b[39m\u001b[38;5;241m.\u001b[39mcreate_P_glob()\n",
      "File \u001b[0;32m~/statistic/MES/second/Grid.py:46\u001b[0m, in \u001b[0;36mGrid.create_grig\u001b[0;34m(self)\u001b[0m\n\u001b[1;32m     45\u001b[0m \u001b[38;5;28;01mdef\u001b[39;00m \u001b[38;5;21mcreate_grig\u001b[39m(\u001b[38;5;28mself\u001b[39m):\n\u001b[0;32m---> 46\u001b[0m     PC \u001b[38;5;241m=\u001b[39m \u001b[38;5;28;43mself\u001b[39;49m\u001b[38;5;241;43m.\u001b[39;49m\u001b[43mPC_Weight\u001b[49m\u001b[43m(\u001b[49m\u001b[43m)\u001b[49m\n\u001b[1;32m     47\u001b[0m     grid \u001b[38;5;241m=\u001b[39m []\n\u001b[1;32m     48\u001b[0m     last \u001b[38;5;241m=\u001b[39m \u001b[38;5;241m0\u001b[39m\n",
      "File \u001b[0;32m~/statistic/MES/second/Grid.py:29\u001b[0m, in \u001b[0;36mGrid.PC_Weight\u001b[0;34m(self)\u001b[0m\n\u001b[1;32m     28\u001b[0m \u001b[38;5;28;01mdef\u001b[39;00m \u001b[38;5;21mPC_Weight\u001b[39m(\u001b[38;5;28mself\u001b[39m):\n\u001b[0;32m---> 29\u001b[0m     node, weights \u001b[38;5;241m=\u001b[39m \u001b[38;5;28;43mself\u001b[39;49m\u001b[38;5;241;43m.\u001b[39;49m\u001b[43mcalkowanie\u001b[49m\u001b[38;5;241m.\u001b[39mnodes_weight_combination()\n\u001b[1;32m     30\u001b[0m     weights\u001b[38;5;241m=\u001b[39m \u001b[38;5;28mself\u001b[39m\u001b[38;5;241m.\u001b[39mweight_combination(\u001b[38;5;28mself\u001b[39m\u001b[38;5;241m.\u001b[39mpc_number)\n\u001b[1;32m     31\u001b[0m     nodes_weight \u001b[38;5;241m=\u001b[39m [ np\u001b[38;5;241m.\u001b[39mappend(node[ind], w) \u001b[38;5;28;01mfor\u001b[39;00m ind, w \u001b[38;5;129;01min\u001b[39;00m \u001b[38;5;28menumerate\u001b[39m(weights)]\n",
      "\u001b[0;31mAttributeError\u001b[0m: 'Grid' object has no attribute 'calkowanie'"
     ]
    }
   ],
   "source": [
    "Grid2(data_mix, 2)"
   ]
  }
 ],
 "metadata": {
  "kernelspec": {
   "display_name": "Python 3",
   "language": "python",
   "name": "python3"
  },
  "language_info": {
   "codemirror_mode": {
    "name": "ipython",
    "version": 3
   },
   "file_extension": ".py",
   "mimetype": "text/x-python",
   "name": "python",
   "nbconvert_exporter": "python",
   "pygments_lexer": "ipython3",
   "version": "3.11.2"
  }
 },
 "nbformat": 4,
 "nbformat_minor": 2
}
